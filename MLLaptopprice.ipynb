{
 "cells": [
  {
   "cell_type": "markdown",
   "id": "e6b5e4c5",
   "metadata": {},
   "source": [
    "### Read Data from Preprocess data which was done in module 1"
   ]
  },
  {
   "cell_type": "code",
   "execution_count": 1,
   "id": "7e998538",
   "metadata": {},
   "outputs": [
    {
     "data": {
      "text/html": [
       "<div>\n",
       "<style scoped>\n",
       "    .dataframe tbody tr th:only-of-type {\n",
       "        vertical-align: middle;\n",
       "    }\n",
       "\n",
       "    .dataframe tbody tr th {\n",
       "        vertical-align: top;\n",
       "    }\n",
       "\n",
       "    .dataframe thead th {\n",
       "        text-align: right;\n",
       "    }\n",
       "</style>\n",
       "<table border=\"1\" class=\"dataframe\">\n",
       "  <thead>\n",
       "    <tr style=\"text-align: right;\">\n",
       "      <th></th>\n",
       "      <th>Unnamed: 0</th>\n",
       "      <th>Product_description</th>\n",
       "      <th>Price</th>\n",
       "      <th>Rating</th>\n",
       "      <th>Processor</th>\n",
       "      <th>RAM</th>\n",
       "      <th>Storage</th>\n",
       "      <th>Operating_system</th>\n",
       "      <th>Display_size</th>\n",
       "      <th>Warranty</th>\n",
       "      <th>Processor_generation</th>\n",
       "      <th>RAM_in_GB</th>\n",
       "      <th>Storage_in_GB</th>\n",
       "      <th>Storage_type</th>\n",
       "      <th>company</th>\n",
       "    </tr>\n",
       "  </thead>\n",
       "  <tbody>\n",
       "    <tr>\n",
       "      <th>0</th>\n",
       "      <td>0</td>\n",
       "      <td>Lenovo IdeaPad 3 Core i3 10th Gen - (8 GB/1 TB...</td>\n",
       "      <td>36990.0</td>\n",
       "      <td>4.2</td>\n",
       "      <td>Intel Core i3 Processor (10th Gen)</td>\n",
       "      <td>8 GB DDR4 RAM</td>\n",
       "      <td>1 TB HDD</td>\n",
       "      <td>64 bit Windows 10 Operating System</td>\n",
       "      <td>39.62 cm (15.6 inch) Display</td>\n",
       "      <td>1 Year Warranty Term</td>\n",
       "      <td>i3</td>\n",
       "      <td>8</td>\n",
       "      <td>1000</td>\n",
       "      <td>HDD</td>\n",
       "      <td>Lenovo</td>\n",
       "    </tr>\n",
       "    <tr>\n",
       "      <th>1</th>\n",
       "      <td>1</td>\n",
       "      <td>ASUS VivoBook Flip 14 Touch Panel Core i3 10th...</td>\n",
       "      <td>44990.0</td>\n",
       "      <td>4.2</td>\n",
       "      <td>Intel Core i3 Processor (10th Gen)</td>\n",
       "      <td>4 GB DDR4 RAM</td>\n",
       "      <td>512 GB SSD</td>\n",
       "      <td>64 bit Windows 10 Operating System</td>\n",
       "      <td>35.56 cm (14 inch) Touchscreen Display</td>\n",
       "      <td>1 Year Onsite Warranty</td>\n",
       "      <td>i3</td>\n",
       "      <td>4</td>\n",
       "      <td>512</td>\n",
       "      <td>SSD</td>\n",
       "      <td>Asus</td>\n",
       "    </tr>\n",
       "    <tr>\n",
       "      <th>2</th>\n",
       "      <td>2</td>\n",
       "      <td>ASUS VivoBook 15 Core i3 7th Gen - (4 GB/1 TB ...</td>\n",
       "      <td>27990.0</td>\n",
       "      <td>4.0</td>\n",
       "      <td>Intel Core i3 Processor (7th Gen)</td>\n",
       "      <td>4 GB DDR4 RAM</td>\n",
       "      <td>1 TB HDD</td>\n",
       "      <td>64 bit Windows 10 Operating System</td>\n",
       "      <td>39.62 cm (15.6 inch) Display</td>\n",
       "      <td>1 Year Onsite Warranty</td>\n",
       "      <td>i3</td>\n",
       "      <td>4</td>\n",
       "      <td>1000</td>\n",
       "      <td>HDD</td>\n",
       "      <td>Asus</td>\n",
       "    </tr>\n",
       "    <tr>\n",
       "      <th>3</th>\n",
       "      <td>3</td>\n",
       "      <td>APPLE MacBook Air M1 - (8 GB/256 GB SSD/Mac OS...</td>\n",
       "      <td>82990.0</td>\n",
       "      <td>4.7</td>\n",
       "      <td>Intel Core i5 Processor (10th Gen)</td>\n",
       "      <td>8 GB DDR4 RAM</td>\n",
       "      <td>256 GB SSD</td>\n",
       "      <td>Mac OS Operating System</td>\n",
       "      <td>33.78 cm (13.3 inch) Display</td>\n",
       "      <td>1 Year Onsite Warranty</td>\n",
       "      <td>i5</td>\n",
       "      <td>8</td>\n",
       "      <td>256</td>\n",
       "      <td>SSD</td>\n",
       "      <td>Apple</td>\n",
       "    </tr>\n",
       "    <tr>\n",
       "      <th>4</th>\n",
       "      <td>4</td>\n",
       "      <td>ASUS Core i5 10th Gen - (8 GB + 32 GB Optane/5...</td>\n",
       "      <td>47990.0</td>\n",
       "      <td>4.2</td>\n",
       "      <td>Intel Core i3 Processor (10th Gen)</td>\n",
       "      <td>8 GB DDR4 RAM</td>\n",
       "      <td>512 GB SSD</td>\n",
       "      <td>64 bit Windows 10 Operating System</td>\n",
       "      <td>39.62 cm (15.6 inch) Display</td>\n",
       "      <td>1 Year Onsite Warranty</td>\n",
       "      <td>i3</td>\n",
       "      <td>8</td>\n",
       "      <td>512</td>\n",
       "      <td>SSD</td>\n",
       "      <td>Asus</td>\n",
       "    </tr>\n",
       "    <tr>\n",
       "      <th>...</th>\n",
       "      <td>...</td>\n",
       "      <td>...</td>\n",
       "      <td>...</td>\n",
       "      <td>...</td>\n",
       "      <td>...</td>\n",
       "      <td>...</td>\n",
       "      <td>...</td>\n",
       "      <td>...</td>\n",
       "      <td>...</td>\n",
       "      <td>...</td>\n",
       "      <td>...</td>\n",
       "      <td>...</td>\n",
       "      <td>...</td>\n",
       "      <td>...</td>\n",
       "      <td>...</td>\n",
       "    </tr>\n",
       "    <tr>\n",
       "      <th>689</th>\n",
       "      <td>689</td>\n",
       "      <td>HP 14q Core i5 8th Gen - (8 GB/1 TB HDD/Window...</td>\n",
       "      <td>44097.0</td>\n",
       "      <td>4.8</td>\n",
       "      <td>Intel Core i5 Processor (11th Gen)</td>\n",
       "      <td>4 GB DDR4 RAM</td>\n",
       "      <td>512 GB SSD</td>\n",
       "      <td>64 bit Windows 10 Operating System</td>\n",
       "      <td>39.62 cm (15.6 inch) Display</td>\n",
       "      <td>18 Months Warranty + 6 Months Extended Warrant...</td>\n",
       "      <td>i5</td>\n",
       "      <td>8</td>\n",
       "      <td>1000</td>\n",
       "      <td>SSD</td>\n",
       "      <td>HP</td>\n",
       "    </tr>\n",
       "    <tr>\n",
       "      <th>690</th>\n",
       "      <td>690</td>\n",
       "      <td>HP 14q Core i3 7th Gen - (4 GB/1 TB HDD/Window...</td>\n",
       "      <td>35585.0</td>\n",
       "      <td>5.0</td>\n",
       "      <td>Intel Core i3 Processor (10th Gen)</td>\n",
       "      <td>8 GB DDR4 RAM</td>\n",
       "      <td>1 TB HDD</td>\n",
       "      <td>64 bit Windows 10 Operating System</td>\n",
       "      <td>39.62 cm (15.6 inch) Display</td>\n",
       "      <td>1 Year Onsite Warranty</td>\n",
       "      <td>i7</td>\n",
       "      <td>4</td>\n",
       "      <td>1000</td>\n",
       "      <td>HDD</td>\n",
       "      <td>HP</td>\n",
       "    </tr>\n",
       "    <tr>\n",
       "      <th>691</th>\n",
       "      <td>691</td>\n",
       "      <td>HP 15s Core i3 8th Gen - (8 GB/1 TB HDD/Window...</td>\n",
       "      <td>43781.0</td>\n",
       "      <td>4.0</td>\n",
       "      <td>AMD Ryzen 9 Octa Core Processor</td>\n",
       "      <td>4 GB DDR4 RAM</td>\n",
       "      <td>1 TB SSD</td>\n",
       "      <td>Windows 10 Operating System</td>\n",
       "      <td>35.56 cm (14 inch) Display</td>\n",
       "      <td>18 Months Warranty + 6 Months Extended Warrant...</td>\n",
       "      <td>i3</td>\n",
       "      <td>8</td>\n",
       "      <td>512</td>\n",
       "      <td>SSD</td>\n",
       "      <td>HP</td>\n",
       "    </tr>\n",
       "    <tr>\n",
       "      <th>692</th>\n",
       "      <td>692</td>\n",
       "      <td>HP Pavilion Gaming Core i5 10th Gen - (8 GB/1 ...</td>\n",
       "      <td>93400.0</td>\n",
       "      <td>4.2</td>\n",
       "      <td>Intel Core i3 Processor (11th Gen)</td>\n",
       "      <td>8 GB DDR4 RAM</td>\n",
       "      <td>512 GB SSD</td>\n",
       "      <td>Windows 10 Operating System</td>\n",
       "      <td>39.62 cm (15.6 inch) Display</td>\n",
       "      <td>2 Years Warranty</td>\n",
       "      <td>i5</td>\n",
       "      <td>8</td>\n",
       "      <td>256</td>\n",
       "      <td>SSD</td>\n",
       "      <td>HP</td>\n",
       "    </tr>\n",
       "    <tr>\n",
       "      <th>693</th>\n",
       "      <td>693</td>\n",
       "      <td>HP 14S Core i5 8th Gen - (8 GB/1 TB HDD/Window...</td>\n",
       "      <td>61373.0</td>\n",
       "      <td>4.2</td>\n",
       "      <td>Intel Celeron Dual Core Processor</td>\n",
       "      <td>8 GB DDR4 RAM</td>\n",
       "      <td>256 GB SSD</td>\n",
       "      <td>64 bit Windows 10 Operating System</td>\n",
       "      <td>35.56 cm (14 inch) Touchscreen Display</td>\n",
       "      <td>18 Months Warranty + 6 Months Extended Warrant...</td>\n",
       "      <td>i3</td>\n",
       "      <td>8</td>\n",
       "      <td>1000</td>\n",
       "      <td>SSD</td>\n",
       "      <td>HP</td>\n",
       "    </tr>\n",
       "  </tbody>\n",
       "</table>\n",
       "<p>694 rows × 15 columns</p>\n",
       "</div>"
      ],
      "text/plain": [
       "     Unnamed: 0                                Product_description    Price  \\\n",
       "0             0  Lenovo IdeaPad 3 Core i3 10th Gen - (8 GB/1 TB...  36990.0   \n",
       "1             1  ASUS VivoBook Flip 14 Touch Panel Core i3 10th...  44990.0   \n",
       "2             2  ASUS VivoBook 15 Core i3 7th Gen - (4 GB/1 TB ...  27990.0   \n",
       "3             3  APPLE MacBook Air M1 - (8 GB/256 GB SSD/Mac OS...  82990.0   \n",
       "4             4  ASUS Core i5 10th Gen - (8 GB + 32 GB Optane/5...  47990.0   \n",
       "..          ...                                                ...      ...   \n",
       "689         689  HP 14q Core i5 8th Gen - (8 GB/1 TB HDD/Window...  44097.0   \n",
       "690         690  HP 14q Core i3 7th Gen - (4 GB/1 TB HDD/Window...  35585.0   \n",
       "691         691  HP 15s Core i3 8th Gen - (8 GB/1 TB HDD/Window...  43781.0   \n",
       "692         692  HP Pavilion Gaming Core i5 10th Gen - (8 GB/1 ...  93400.0   \n",
       "693         693  HP 14S Core i5 8th Gen - (8 GB/1 TB HDD/Window...  61373.0   \n",
       "\n",
       "     Rating                           Processor            RAM     Storage  \\\n",
       "0       4.2  Intel Core i3 Processor (10th Gen)  8 GB DDR4 RAM    1 TB HDD   \n",
       "1       4.2  Intel Core i3 Processor (10th Gen)  4 GB DDR4 RAM  512 GB SSD   \n",
       "2       4.0   Intel Core i3 Processor (7th Gen)  4 GB DDR4 RAM    1 TB HDD   \n",
       "3       4.7  Intel Core i5 Processor (10th Gen)  8 GB DDR4 RAM  256 GB SSD   \n",
       "4       4.2  Intel Core i3 Processor (10th Gen)  8 GB DDR4 RAM  512 GB SSD   \n",
       "..      ...                                 ...            ...         ...   \n",
       "689     4.8  Intel Core i5 Processor (11th Gen)  4 GB DDR4 RAM  512 GB SSD   \n",
       "690     5.0  Intel Core i3 Processor (10th Gen)  8 GB DDR4 RAM    1 TB HDD   \n",
       "691     4.0     AMD Ryzen 9 Octa Core Processor  4 GB DDR4 RAM    1 TB SSD   \n",
       "692     4.2  Intel Core i3 Processor (11th Gen)  8 GB DDR4 RAM  512 GB SSD   \n",
       "693     4.2   Intel Celeron Dual Core Processor  8 GB DDR4 RAM  256 GB SSD   \n",
       "\n",
       "                       Operating_system  \\\n",
       "0    64 bit Windows 10 Operating System   \n",
       "1    64 bit Windows 10 Operating System   \n",
       "2    64 bit Windows 10 Operating System   \n",
       "3               Mac OS Operating System   \n",
       "4    64 bit Windows 10 Operating System   \n",
       "..                                  ...   \n",
       "689  64 bit Windows 10 Operating System   \n",
       "690  64 bit Windows 10 Operating System   \n",
       "691         Windows 10 Operating System   \n",
       "692         Windows 10 Operating System   \n",
       "693  64 bit Windows 10 Operating System   \n",
       "\n",
       "                               Display_size  \\\n",
       "0              39.62 cm (15.6 inch) Display   \n",
       "1    35.56 cm (14 inch) Touchscreen Display   \n",
       "2              39.62 cm (15.6 inch) Display   \n",
       "3              33.78 cm (13.3 inch) Display   \n",
       "4              39.62 cm (15.6 inch) Display   \n",
       "..                                      ...   \n",
       "689            39.62 cm (15.6 inch) Display   \n",
       "690            39.62 cm (15.6 inch) Display   \n",
       "691              35.56 cm (14 inch) Display   \n",
       "692            39.62 cm (15.6 inch) Display   \n",
       "693  35.56 cm (14 inch) Touchscreen Display   \n",
       "\n",
       "                                              Warranty Processor_generation  \\\n",
       "0                                 1 Year Warranty Term                   i3   \n",
       "1                               1 Year Onsite Warranty                   i3   \n",
       "2                               1 Year Onsite Warranty                   i3   \n",
       "3                               1 Year Onsite Warranty                   i5   \n",
       "4                               1 Year Onsite Warranty                   i3   \n",
       "..                                                 ...                  ...   \n",
       "689  18 Months Warranty + 6 Months Extended Warrant...                   i5   \n",
       "690                             1 Year Onsite Warranty                   i7   \n",
       "691  18 Months Warranty + 6 Months Extended Warrant...                   i3   \n",
       "692                                   2 Years Warranty                   i5   \n",
       "693  18 Months Warranty + 6 Months Extended Warrant...                   i3   \n",
       "\n",
       "     RAM_in_GB  Storage_in_GB Storage_type company  \n",
       "0            8           1000          HDD  Lenovo  \n",
       "1            4            512          SSD    Asus  \n",
       "2            4           1000          HDD    Asus  \n",
       "3            8            256          SSD   Apple  \n",
       "4            8            512          SSD    Asus  \n",
       "..         ...            ...          ...     ...  \n",
       "689          8           1000          SSD      HP  \n",
       "690          4           1000          HDD      HP  \n",
       "691          8            512          SSD      HP  \n",
       "692          8            256          SSD      HP  \n",
       "693          8           1000          SSD      HP  \n",
       "\n",
       "[694 rows x 15 columns]"
      ]
     },
     "execution_count": 1,
     "metadata": {},
     "output_type": "execute_result"
    }
   ],
   "source": [
    "import pandas as pd\n",
    "import numpy as np\n",
    "df=pd.read_csv(\"final_data1.csv\")\n",
    "df\n"
   ]
  },
  {
   "cell_type": "code",
   "execution_count": 2,
   "id": "d32903ec",
   "metadata": {},
   "outputs": [
    {
     "data": {
      "text/plain": [
       "array(['39.62 cm (15.6 inch) Display',\n",
       "       '35.56 cm (14 inch) Touchscreen Display',\n",
       "       '33.78 cm (13.3 inch) Display', '35.56 cm (14 inch) Display',\n",
       "       '39.62 cm (15.6 Inch) Display', '38.1 cm (15 inch) Display',\n",
       "       '39.62 cm (15.6 inches) Display', '35.56 cm (14 Inch) Display',\n",
       "       '35.56 cm (14 Inch) Touchscreen Display',\n",
       "       '43.94 cm (17.3 inch) Display', '35.56 cm (14 inches) Display',\n",
       "       '43.94 cm (17.3 Inch) Display',\n",
       "       '35.56 cm (14 inches) Touchscreen Display',\n",
       "       '33.78 cm (13.3 inch) Touchscreen Display',\n",
       "       '15.6 inches Full HD IPS Thin Bezel Display (144Hz, 45% NTSC Color Gamut)',\n",
       "       'SHIFT, SteelSeries Engine 3, Matrix Display (Extend), Dragon Center, GamingMode, VR Ready, Cooler Boost 5, Nahimic 3, Nahimic VR, Giant Speaker',\n",
       "       '33.02 cm (13 inch) Display', '36.83 cm (14.5 inch) Display',\n",
       "       '29.46 cm (11.6 Inch) Display',\n",
       "       '29.46 cm (11.6 inch) Touchscreen Display',\n",
       "       '40.64 cm (16 inch) Display', '40.64 cm (16 inches) Display',\n",
       "       '43.94 cm (17.3 inches) Display',\n",
       "       '39.62 cm (15.6 inch) Touchscreen Display',\n",
       "       'SteelSeries Engine 3, Cooler Boost 5, Nahimic 3, Speaker Tuning Engine, Mini-Display Port Support , MSI Center',\n",
       "       '35.81 cm (14.1 inch) Display',\n",
       "       '15.6 inch Full HD LED Backlit Anti-glare Display, 300 Hz, 300 Nits',\n",
       "       '34.29 cm (13.5 inch) Touchscreen Display',\n",
       "       '29.46 cm (11.6 inch) Display',\n",
       "       '38.1 cm (15 inch) Touchscreen Display',\n",
       "       '34.04 cm (13.4 Inch) Touchscreen Display',\n",
       "       '33.78 cm (13.3 inches) Display',\n",
       "       '34.04 cm (13.4 inch) Touchscreen Display',\n",
       "       '33.78 cm (13.3 Inch) Display',\n",
       "       '15.6 inch Full HD LED Backlit Anti-glare IPS Display, 300 Hz, 300 Nits',\n",
       "       '25.4 cm (10 inch) Touchscreen Display'], dtype=object)"
      ]
     },
     "execution_count": 2,
     "metadata": {},
     "output_type": "execute_result"
    }
   ],
   "source": [
    "df['Display_size'].unique()"
   ]
  },
  {
   "cell_type": "markdown",
   "id": "9062d7f0",
   "metadata": {},
   "source": [
    "# Ignore Warning "
   ]
  },
  {
   "cell_type": "code",
   "execution_count": 3,
   "id": "8954b6ee",
   "metadata": {},
   "outputs": [],
   "source": [
    "import warnings\n",
    "warnings.filterwarnings(\"ignore\") \n"
   ]
  },
  {
   "cell_type": "code",
   "execution_count": 4,
   "id": "3884f421",
   "metadata": {},
   "outputs": [
    {
     "data": {
      "text/plain": [
       "array(['Lenovo', 'Asus', 'Apple', 'Acer', 'HP', 'MSI', 'Dell', 'Redmi',\n",
       "       'Realme', 'Nokia', 'LG', 'Avita', 'MICROSOFT', 'Nexstgo', 'Vaio',\n",
       "       'Mi', 'ALIENWARE'], dtype=object)"
      ]
     },
     "execution_count": 4,
     "metadata": {},
     "output_type": "execute_result"
    }
   ],
   "source": [
    "df['company'].unique()"
   ]
  },
  {
   "cell_type": "code",
   "execution_count": 5,
   "id": "b6698690",
   "metadata": {},
   "outputs": [
    {
     "name": "stdout",
     "output_type": "stream",
     "text": [
      "<class 'pandas.core.frame.DataFrame'>\n",
      "RangeIndex: 694 entries, 0 to 693\n",
      "Data columns (total 15 columns):\n",
      " #   Column                Non-Null Count  Dtype  \n",
      "---  ------                --------------  -----  \n",
      " 0   Unnamed: 0            694 non-null    int64  \n",
      " 1   Product_description   694 non-null    object \n",
      " 2   Price                 694 non-null    float64\n",
      " 3   Rating                694 non-null    float64\n",
      " 4   Processor             694 non-null    object \n",
      " 5   RAM                   694 non-null    object \n",
      " 6   Storage               694 non-null    object \n",
      " 7   Operating_system      694 non-null    object \n",
      " 8   Display_size          694 non-null    object \n",
      " 9   Warranty              694 non-null    object \n",
      " 10  Processor_generation  694 non-null    object \n",
      " 11  RAM_in_GB             694 non-null    int64  \n",
      " 12  Storage_in_GB         694 non-null    int64  \n",
      " 13  Storage_type          694 non-null    object \n",
      " 14  company               694 non-null    object \n",
      "dtypes: float64(2), int64(3), object(10)\n",
      "memory usage: 81.5+ KB\n"
     ]
    }
   ],
   "source": [
    "df.info()"
   ]
  },
  {
   "cell_type": "code",
   "execution_count": 6,
   "id": "2e43c1ec",
   "metadata": {},
   "outputs": [
    {
     "data": {
      "text/plain": [
       "0"
      ]
     },
     "execution_count": 6,
     "metadata": {},
     "output_type": "execute_result"
    }
   ],
   "source": [
    "df.duplicated().sum()"
   ]
  },
  {
   "cell_type": "code",
   "execution_count": 7,
   "id": "6d19013a",
   "metadata": {},
   "outputs": [
    {
     "data": {
      "text/plain": [
       "Unnamed: 0              0\n",
       "Product_description     0\n",
       "Price                   0\n",
       "Rating                  0\n",
       "Processor               0\n",
       "RAM                     0\n",
       "Storage                 0\n",
       "Operating_system        0\n",
       "Display_size            0\n",
       "Warranty                0\n",
       "Processor_generation    0\n",
       "RAM_in_GB               0\n",
       "Storage_in_GB           0\n",
       "Storage_type            0\n",
       "company                 0\n",
       "dtype: int64"
      ]
     },
     "execution_count": 7,
     "metadata": {},
     "output_type": "execute_result"
    }
   ],
   "source": [
    "df.isnull().sum()"
   ]
  },
  {
   "cell_type": "code",
   "execution_count": 8,
   "id": "ad769784",
   "metadata": {},
   "outputs": [
    {
     "data": {
      "text/html": [
       "<div>\n",
       "<style scoped>\n",
       "    .dataframe tbody tr th:only-of-type {\n",
       "        vertical-align: middle;\n",
       "    }\n",
       "\n",
       "    .dataframe tbody tr th {\n",
       "        vertical-align: top;\n",
       "    }\n",
       "\n",
       "    .dataframe thead th {\n",
       "        text-align: right;\n",
       "    }\n",
       "</style>\n",
       "<table border=\"1\" class=\"dataframe\">\n",
       "  <thead>\n",
       "    <tr style=\"text-align: right;\">\n",
       "      <th></th>\n",
       "      <th>Unnamed: 0</th>\n",
       "      <th>Product_description</th>\n",
       "      <th>Price</th>\n",
       "      <th>Rating</th>\n",
       "      <th>Processor</th>\n",
       "      <th>RAM</th>\n",
       "      <th>Storage</th>\n",
       "      <th>Operating_system</th>\n",
       "      <th>Display_size</th>\n",
       "      <th>Warranty</th>\n",
       "      <th>Processor_generation</th>\n",
       "      <th>RAM_in_GB</th>\n",
       "      <th>Storage_in_GB</th>\n",
       "      <th>Storage_type</th>\n",
       "      <th>company</th>\n",
       "    </tr>\n",
       "  </thead>\n",
       "  <tbody>\n",
       "    <tr>\n",
       "      <th>0</th>\n",
       "      <td>0</td>\n",
       "      <td>Lenovo IdeaPad 3 Core i3 10th Gen - (8 GB/1 TB...</td>\n",
       "      <td>36990.0</td>\n",
       "      <td>4.2</td>\n",
       "      <td>Intel Core i3 Processor (10th Gen)</td>\n",
       "      <td>8 GB DDR4 RAM</td>\n",
       "      <td>1 TB HDD</td>\n",
       "      <td>64 bit Windows 10 Operating System</td>\n",
       "      <td>39.62 cm (15.6 inch) Display</td>\n",
       "      <td>1 Year Warranty Term</td>\n",
       "      <td>i3</td>\n",
       "      <td>8</td>\n",
       "      <td>1000</td>\n",
       "      <td>HDD</td>\n",
       "      <td>Lenovo</td>\n",
       "    </tr>\n",
       "    <tr>\n",
       "      <th>1</th>\n",
       "      <td>1</td>\n",
       "      <td>ASUS VivoBook Flip 14 Touch Panel Core i3 10th...</td>\n",
       "      <td>44990.0</td>\n",
       "      <td>4.2</td>\n",
       "      <td>Intel Core i3 Processor (10th Gen)</td>\n",
       "      <td>4 GB DDR4 RAM</td>\n",
       "      <td>512 GB SSD</td>\n",
       "      <td>64 bit Windows 10 Operating System</td>\n",
       "      <td>35.56 cm (14 inch) Touchscreen Display</td>\n",
       "      <td>1 Year Onsite Warranty</td>\n",
       "      <td>i3</td>\n",
       "      <td>4</td>\n",
       "      <td>512</td>\n",
       "      <td>SSD</td>\n",
       "      <td>Asus</td>\n",
       "    </tr>\n",
       "    <tr>\n",
       "      <th>2</th>\n",
       "      <td>2</td>\n",
       "      <td>ASUS VivoBook 15 Core i3 7th Gen - (4 GB/1 TB ...</td>\n",
       "      <td>27990.0</td>\n",
       "      <td>4.0</td>\n",
       "      <td>Intel Core i3 Processor (7th Gen)</td>\n",
       "      <td>4 GB DDR4 RAM</td>\n",
       "      <td>1 TB HDD</td>\n",
       "      <td>64 bit Windows 10 Operating System</td>\n",
       "      <td>39.62 cm (15.6 inch) Display</td>\n",
       "      <td>1 Year Onsite Warranty</td>\n",
       "      <td>i3</td>\n",
       "      <td>4</td>\n",
       "      <td>1000</td>\n",
       "      <td>HDD</td>\n",
       "      <td>Asus</td>\n",
       "    </tr>\n",
       "    <tr>\n",
       "      <th>3</th>\n",
       "      <td>3</td>\n",
       "      <td>APPLE MacBook Air M1 - (8 GB/256 GB SSD/Mac OS...</td>\n",
       "      <td>82990.0</td>\n",
       "      <td>4.7</td>\n",
       "      <td>Intel Core i5 Processor (10th Gen)</td>\n",
       "      <td>8 GB DDR4 RAM</td>\n",
       "      <td>256 GB SSD</td>\n",
       "      <td>Mac OS Operating System</td>\n",
       "      <td>33.78 cm (13.3 inch) Display</td>\n",
       "      <td>1 Year Onsite Warranty</td>\n",
       "      <td>i5</td>\n",
       "      <td>8</td>\n",
       "      <td>256</td>\n",
       "      <td>SSD</td>\n",
       "      <td>Apple</td>\n",
       "    </tr>\n",
       "    <tr>\n",
       "      <th>4</th>\n",
       "      <td>4</td>\n",
       "      <td>ASUS Core i5 10th Gen - (8 GB + 32 GB Optane/5...</td>\n",
       "      <td>47990.0</td>\n",
       "      <td>4.2</td>\n",
       "      <td>Intel Core i3 Processor (10th Gen)</td>\n",
       "      <td>8 GB DDR4 RAM</td>\n",
       "      <td>512 GB SSD</td>\n",
       "      <td>64 bit Windows 10 Operating System</td>\n",
       "      <td>39.62 cm (15.6 inch) Display</td>\n",
       "      <td>1 Year Onsite Warranty</td>\n",
       "      <td>i3</td>\n",
       "      <td>8</td>\n",
       "      <td>512</td>\n",
       "      <td>SSD</td>\n",
       "      <td>Asus</td>\n",
       "    </tr>\n",
       "    <tr>\n",
       "      <th>...</th>\n",
       "      <td>...</td>\n",
       "      <td>...</td>\n",
       "      <td>...</td>\n",
       "      <td>...</td>\n",
       "      <td>...</td>\n",
       "      <td>...</td>\n",
       "      <td>...</td>\n",
       "      <td>...</td>\n",
       "      <td>...</td>\n",
       "      <td>...</td>\n",
       "      <td>...</td>\n",
       "      <td>...</td>\n",
       "      <td>...</td>\n",
       "      <td>...</td>\n",
       "      <td>...</td>\n",
       "    </tr>\n",
       "    <tr>\n",
       "      <th>689</th>\n",
       "      <td>689</td>\n",
       "      <td>HP 14q Core i5 8th Gen - (8 GB/1 TB HDD/Window...</td>\n",
       "      <td>44097.0</td>\n",
       "      <td>4.8</td>\n",
       "      <td>Intel Core i5 Processor (11th Gen)</td>\n",
       "      <td>4 GB DDR4 RAM</td>\n",
       "      <td>512 GB SSD</td>\n",
       "      <td>64 bit Windows 10 Operating System</td>\n",
       "      <td>39.62 cm (15.6 inch) Display</td>\n",
       "      <td>18 Months Warranty + 6 Months Extended Warrant...</td>\n",
       "      <td>i5</td>\n",
       "      <td>8</td>\n",
       "      <td>1000</td>\n",
       "      <td>SSD</td>\n",
       "      <td>HP</td>\n",
       "    </tr>\n",
       "    <tr>\n",
       "      <th>690</th>\n",
       "      <td>690</td>\n",
       "      <td>HP 14q Core i3 7th Gen - (4 GB/1 TB HDD/Window...</td>\n",
       "      <td>35585.0</td>\n",
       "      <td>5.0</td>\n",
       "      <td>Intel Core i3 Processor (10th Gen)</td>\n",
       "      <td>8 GB DDR4 RAM</td>\n",
       "      <td>1 TB HDD</td>\n",
       "      <td>64 bit Windows 10 Operating System</td>\n",
       "      <td>39.62 cm (15.6 inch) Display</td>\n",
       "      <td>1 Year Onsite Warranty</td>\n",
       "      <td>i7</td>\n",
       "      <td>4</td>\n",
       "      <td>1000</td>\n",
       "      <td>HDD</td>\n",
       "      <td>HP</td>\n",
       "    </tr>\n",
       "    <tr>\n",
       "      <th>691</th>\n",
       "      <td>691</td>\n",
       "      <td>HP 15s Core i3 8th Gen - (8 GB/1 TB HDD/Window...</td>\n",
       "      <td>43781.0</td>\n",
       "      <td>4.0</td>\n",
       "      <td>AMD Ryzen 9 Octa Core Processor</td>\n",
       "      <td>4 GB DDR4 RAM</td>\n",
       "      <td>1 TB SSD</td>\n",
       "      <td>Windows 10 Operating System</td>\n",
       "      <td>35.56 cm (14 inch) Display</td>\n",
       "      <td>18 Months Warranty + 6 Months Extended Warrant...</td>\n",
       "      <td>i3</td>\n",
       "      <td>8</td>\n",
       "      <td>512</td>\n",
       "      <td>SSD</td>\n",
       "      <td>HP</td>\n",
       "    </tr>\n",
       "    <tr>\n",
       "      <th>692</th>\n",
       "      <td>692</td>\n",
       "      <td>HP Pavilion Gaming Core i5 10th Gen - (8 GB/1 ...</td>\n",
       "      <td>93400.0</td>\n",
       "      <td>4.2</td>\n",
       "      <td>Intel Core i3 Processor (11th Gen)</td>\n",
       "      <td>8 GB DDR4 RAM</td>\n",
       "      <td>512 GB SSD</td>\n",
       "      <td>Windows 10 Operating System</td>\n",
       "      <td>39.62 cm (15.6 inch) Display</td>\n",
       "      <td>2 Years Warranty</td>\n",
       "      <td>i5</td>\n",
       "      <td>8</td>\n",
       "      <td>256</td>\n",
       "      <td>SSD</td>\n",
       "      <td>HP</td>\n",
       "    </tr>\n",
       "    <tr>\n",
       "      <th>693</th>\n",
       "      <td>693</td>\n",
       "      <td>HP 14S Core i5 8th Gen - (8 GB/1 TB HDD/Window...</td>\n",
       "      <td>61373.0</td>\n",
       "      <td>4.2</td>\n",
       "      <td>Intel Celeron Dual Core Processor</td>\n",
       "      <td>8 GB DDR4 RAM</td>\n",
       "      <td>256 GB SSD</td>\n",
       "      <td>64 bit Windows 10 Operating System</td>\n",
       "      <td>35.56 cm (14 inch) Touchscreen Display</td>\n",
       "      <td>18 Months Warranty + 6 Months Extended Warrant...</td>\n",
       "      <td>i3</td>\n",
       "      <td>8</td>\n",
       "      <td>1000</td>\n",
       "      <td>SSD</td>\n",
       "      <td>HP</td>\n",
       "    </tr>\n",
       "  </tbody>\n",
       "</table>\n",
       "<p>694 rows × 15 columns</p>\n",
       "</div>"
      ],
      "text/plain": [
       "     Unnamed: 0                                Product_description    Price  \\\n",
       "0             0  Lenovo IdeaPad 3 Core i3 10th Gen - (8 GB/1 TB...  36990.0   \n",
       "1             1  ASUS VivoBook Flip 14 Touch Panel Core i3 10th...  44990.0   \n",
       "2             2  ASUS VivoBook 15 Core i3 7th Gen - (4 GB/1 TB ...  27990.0   \n",
       "3             3  APPLE MacBook Air M1 - (8 GB/256 GB SSD/Mac OS...  82990.0   \n",
       "4             4  ASUS Core i5 10th Gen - (8 GB + 32 GB Optane/5...  47990.0   \n",
       "..          ...                                                ...      ...   \n",
       "689         689  HP 14q Core i5 8th Gen - (8 GB/1 TB HDD/Window...  44097.0   \n",
       "690         690  HP 14q Core i3 7th Gen - (4 GB/1 TB HDD/Window...  35585.0   \n",
       "691         691  HP 15s Core i3 8th Gen - (8 GB/1 TB HDD/Window...  43781.0   \n",
       "692         692  HP Pavilion Gaming Core i5 10th Gen - (8 GB/1 ...  93400.0   \n",
       "693         693  HP 14S Core i5 8th Gen - (8 GB/1 TB HDD/Window...  61373.0   \n",
       "\n",
       "     Rating                           Processor            RAM     Storage  \\\n",
       "0       4.2  Intel Core i3 Processor (10th Gen)  8 GB DDR4 RAM    1 TB HDD   \n",
       "1       4.2  Intel Core i3 Processor (10th Gen)  4 GB DDR4 RAM  512 GB SSD   \n",
       "2       4.0   Intel Core i3 Processor (7th Gen)  4 GB DDR4 RAM    1 TB HDD   \n",
       "3       4.7  Intel Core i5 Processor (10th Gen)  8 GB DDR4 RAM  256 GB SSD   \n",
       "4       4.2  Intel Core i3 Processor (10th Gen)  8 GB DDR4 RAM  512 GB SSD   \n",
       "..      ...                                 ...            ...         ...   \n",
       "689     4.8  Intel Core i5 Processor (11th Gen)  4 GB DDR4 RAM  512 GB SSD   \n",
       "690     5.0  Intel Core i3 Processor (10th Gen)  8 GB DDR4 RAM    1 TB HDD   \n",
       "691     4.0     AMD Ryzen 9 Octa Core Processor  4 GB DDR4 RAM    1 TB SSD   \n",
       "692     4.2  Intel Core i3 Processor (11th Gen)  8 GB DDR4 RAM  512 GB SSD   \n",
       "693     4.2   Intel Celeron Dual Core Processor  8 GB DDR4 RAM  256 GB SSD   \n",
       "\n",
       "                       Operating_system  \\\n",
       "0    64 bit Windows 10 Operating System   \n",
       "1    64 bit Windows 10 Operating System   \n",
       "2    64 bit Windows 10 Operating System   \n",
       "3               Mac OS Operating System   \n",
       "4    64 bit Windows 10 Operating System   \n",
       "..                                  ...   \n",
       "689  64 bit Windows 10 Operating System   \n",
       "690  64 bit Windows 10 Operating System   \n",
       "691         Windows 10 Operating System   \n",
       "692         Windows 10 Operating System   \n",
       "693  64 bit Windows 10 Operating System   \n",
       "\n",
       "                               Display_size  \\\n",
       "0              39.62 cm (15.6 inch) Display   \n",
       "1    35.56 cm (14 inch) Touchscreen Display   \n",
       "2              39.62 cm (15.6 inch) Display   \n",
       "3              33.78 cm (13.3 inch) Display   \n",
       "4              39.62 cm (15.6 inch) Display   \n",
       "..                                      ...   \n",
       "689            39.62 cm (15.6 inch) Display   \n",
       "690            39.62 cm (15.6 inch) Display   \n",
       "691              35.56 cm (14 inch) Display   \n",
       "692            39.62 cm (15.6 inch) Display   \n",
       "693  35.56 cm (14 inch) Touchscreen Display   \n",
       "\n",
       "                                              Warranty Processor_generation  \\\n",
       "0                                 1 Year Warranty Term                   i3   \n",
       "1                               1 Year Onsite Warranty                   i3   \n",
       "2                               1 Year Onsite Warranty                   i3   \n",
       "3                               1 Year Onsite Warranty                   i5   \n",
       "4                               1 Year Onsite Warranty                   i3   \n",
       "..                                                 ...                  ...   \n",
       "689  18 Months Warranty + 6 Months Extended Warrant...                   i5   \n",
       "690                             1 Year Onsite Warranty                   i7   \n",
       "691  18 Months Warranty + 6 Months Extended Warrant...                   i3   \n",
       "692                                   2 Years Warranty                   i5   \n",
       "693  18 Months Warranty + 6 Months Extended Warrant...                   i3   \n",
       "\n",
       "     RAM_in_GB  Storage_in_GB Storage_type company  \n",
       "0            8           1000          HDD  Lenovo  \n",
       "1            4            512          SSD    Asus  \n",
       "2            4           1000          HDD    Asus  \n",
       "3            8            256          SSD   Apple  \n",
       "4            8            512          SSD    Asus  \n",
       "..         ...            ...          ...     ...  \n",
       "689          8           1000          SSD      HP  \n",
       "690          4           1000          HDD      HP  \n",
       "691          8            512          SSD      HP  \n",
       "692          8            256          SSD      HP  \n",
       "693          8           1000          SSD      HP  \n",
       "\n",
       "[694 rows x 15 columns]"
      ]
     },
     "execution_count": 8,
     "metadata": {},
     "output_type": "execute_result"
    }
   ],
   "source": [
    "df.drop(columns=['Unnamed: 0'])\n",
    "df"
   ]
  },
  {
   "cell_type": "markdown",
   "id": "354b6f9d",
   "metadata": {},
   "source": [
    "### Analysis of Price\n"
   ]
  },
  {
   "cell_type": "code",
   "execution_count": 9,
   "id": "4628b000",
   "metadata": {},
   "outputs": [
    {
     "data": {
      "text/plain": [
       "<AxesSubplot:xlabel='Price', ylabel='Density'>"
      ]
     },
     "execution_count": 9,
     "metadata": {},
     "output_type": "execute_result"
    },
    {
     "data": {
      "image/png": "[encoded data removed]",
      "text/plain": [
       "<Figure size 432x288 with 1 Axes>"
      ]
     },
     "metadata": {
      "needs_background": "light"
     },
     "output_type": "display_data"
    }
   ],
   "source": [
    "import seaborn as sns\n",
    "sns.distplot(df['Price'])"
   ]
  },
  {
   "cell_type": "markdown",
   "id": "a58709c5",
   "metadata": {},
   "source": [
    "### Analysis of Company Name"
   ]
  },
  {
   "cell_type": "code",
   "execution_count": 10,
   "id": "0040cd97",
   "metadata": {},
   "outputs": [
    {
     "data": {
      "text/plain": [
       "<AxesSubplot:>"
      ]
     },
     "execution_count": 10,
     "metadata": {},
     "output_type": "execute_result"
    },
    {
     "data": {
      "image/png": "[encoded data removed]",
      "text/plain": [
       "<Figure size 432x288 with 1 Axes>"
      ]
     },
     "metadata": {
      "needs_background": "light"
     },
     "output_type": "display_data"
    }
   ],
   "source": [
    "df['company'].value_counts().plot(kind='bar')"
   ]
  },
  {
   "cell_type": "markdown",
   "id": "7d7cd0ed",
   "metadata": {},
   "source": [
    "### Average Price each of the brand"
   ]
  },
  {
   "cell_type": "code",
   "execution_count": 11,
   "id": "3be8143c",
   "metadata": {},
   "outputs": [
    {
     "data": {
      "image/png": "[encoded data removed]",
      "text/plain": [
       "<Figure size 432x288 with 1 Axes>"
      ]
     },
     "metadata": {
      "needs_background": "light"
     },
     "output_type": "display_data"
    }
   ],
   "source": [
    "import matplotlib.pyplot as plt\n",
    "sns.barplot(x=df['company'],y=df['Price'])\n",
    "plt.xticks(rotation='vertical')\n",
    "plt.show()"
   ]
  },
  {
   "cell_type": "markdown",
   "id": "9b86fb66",
   "metadata": {},
   "source": [
    "## Preprocess Touchscreen attribute"
   ]
  },
  {
   "cell_type": "code",
   "execution_count": 12,
   "id": "f4ccd72c",
   "metadata": {},
   "outputs": [],
   "source": [
    "df['TouchScreen']=df['Display_size'].apply(lambda x:1 if 'Touchscreen' in x else 0)\n"
   ]
  },
  {
   "cell_type": "markdown",
   "id": "d61ebc6b",
   "metadata": {},
   "source": [
    "### plot the bar plot of processor generation"
   ]
  },
  {
   "cell_type": "code",
   "execution_count": 13,
   "id": "7fc078af",
   "metadata": {},
   "outputs": [
    {
     "data": {
      "text/plain": [
       "<AxesSubplot:>"
      ]
     },
     "execution_count": 13,
     "metadata": {},
     "output_type": "execute_result"
    },
    {
     "data": {
      "image/png": "[encoded data removed]",
      "text/plain": [
       "<Figure size 432x288 with 1 Axes>"
      ]
     },
     "metadata": {
      "needs_background": "light"
     },
     "output_type": "display_data"
    }
   ],
   "source": [
    "df['Processor_generation'].value_counts().plot(kind='bar')"
   ]
  },
  {
   "cell_type": "markdown",
   "id": "65da68b1",
   "metadata": {},
   "source": [
    "### compare processor generation with price"
   ]
  },
  {
   "cell_type": "code",
   "execution_count": 14,
   "id": "212ac1b4",
   "metadata": {},
   "outputs": [
    {
     "data": {
      "text/plain": [
       "(array([0, 1, 2, 3, 4, 5, 6, 7, 8]),\n",
       " [Text(0, 0, 'i3'),\n",
       "  Text(1, 0, 'i5'),\n",
       "  Text(2, 0, 'Ryzen 5'),\n",
       "  Text(3, 0, 'i7'),\n",
       "  Text(4, 0, 'Ryzen 3'),\n",
       "  Text(5, 0, 'Ryzen 7'),\n",
       "  Text(6, 0, 'APU'),\n",
       "  Text(7, 0, 'i9'),\n",
       "  Text(8, 0, 'Athlon')])"
      ]
     },
     "execution_count": 14,
     "metadata": {},
     "output_type": "execute_result"
    },
    {
     "data": {
      "image/png": "[encoded data removed]",
      "text/plain": [
       "<Figure size 432x288 with 1 Axes>"
      ]
     },
     "metadata": {
      "needs_background": "light"
     },
     "output_type": "display_data"
    }
   ],
   "source": [
    "sns.barplot(x=df['Processor_generation'],y=df['Price'])\n",
    "plt.xticks(rotation='vertical')"
   ]
  },
  {
   "cell_type": "markdown",
   "id": "7bce85dd",
   "metadata": {},
   "source": [
    "### count touchscreen laptop"
   ]
  },
  {
   "cell_type": "code",
   "execution_count": 15,
   "id": "be1db8ca",
   "metadata": {},
   "outputs": [
    {
     "data": {
      "text/plain": [
       "<AxesSubplot:>"
      ]
     },
     "execution_count": 15,
     "metadata": {},
     "output_type": "execute_result"
    },
    {
     "data": {
      "image/png": "[encoded data removed]",
      "text/plain": [
       "<Figure size 432x288 with 1 Axes>"
      ]
     },
     "metadata": {
      "needs_background": "light"
     },
     "output_type": "display_data"
    }
   ],
   "source": [
    "df['TouchScreen'].value_counts().plot(kind='bar')"
   ]
  },
  {
   "cell_type": "markdown",
   "id": "c54c05a7",
   "metadata": {},
   "source": [
    "###  compare touchscreen laptop with price"
   ]
  },
  {
   "cell_type": "code",
   "execution_count": 16,
   "id": "16a6e97b",
   "metadata": {},
   "outputs": [
    {
     "data": {
      "text/plain": [
       "<AxesSubplot:xlabel='TouchScreen', ylabel='Price'>"
      ]
     },
     "execution_count": 16,
     "metadata": {},
     "output_type": "execute_result"
    },
    {
     "data": {
      "image/png": "[encoded data removed]",
      "text/plain": [
       "<Figure size 432x288 with 1 Axes>"
      ]
     },
     "metadata": {
      "needs_background": "light"
     },
     "output_type": "display_data"
    }
   ],
   "source": [
    "sns.barplot(x=df['TouchScreen'],y=df['Price'])"
   ]
  },
  {
   "cell_type": "code",
   "execution_count": 17,
   "id": "55c48328",
   "metadata": {},
   "outputs": [
    {
     "data": {
      "text/plain": [
       "Price            1.000000\n",
       "Rating          -0.006179\n",
       "RAM_in_GB        0.717832\n",
       "Storage_in_GB    0.114368\n",
       "TouchScreen      0.032570\n",
       "Name: Price, dtype: float64"
      ]
     },
     "execution_count": 17,
     "metadata": {},
     "output_type": "execute_result"
    }
   ],
   "source": [
    "df1=df.drop(columns=['Unnamed: 0'])\n",
    "df1.corr()['Price']\n"
   ]
  },
  {
   "cell_type": "code",
   "execution_count": 18,
   "id": "c2671a5d",
   "metadata": {},
   "outputs": [
    {
     "data": {
      "text/plain": [
       "Unnamed: 0       0.150314\n",
       "Price            1.000000\n",
       "Rating          -0.006179\n",
       "RAM_in_GB        0.717832\n",
       "Storage_in_GB    0.114368\n",
       "TouchScreen      0.032570\n",
       "Name: Price, dtype: float64"
      ]
     },
     "execution_count": 18,
     "metadata": {},
     "output_type": "execute_result"
    }
   ],
   "source": [
    "df.corr()['Price']"
   ]
  },
  {
   "cell_type": "markdown",
   "id": "35a29c3d",
   "metadata": {},
   "source": [
    "### count laptop depend on ram size"
   ]
  },
  {
   "cell_type": "code",
   "execution_count": 19,
   "id": "1e063c4d",
   "metadata": {},
   "outputs": [
    {
     "data": {
      "text/plain": [
       "<AxesSubplot:>"
      ]
     },
     "execution_count": 19,
     "metadata": {},
     "output_type": "execute_result"
    },
    {
     "data": {
      "image/png": "[encoded data removed]",
      "text/plain": [
       "<Figure size 432x288 with 1 Axes>"
      ]
     },
     "metadata": {
      "needs_background": "light"
     },
     "output_type": "display_data"
    }
   ],
   "source": [
    "df['RAM_in_GB'].value_counts().plot(kind='bar')"
   ]
  },
  {
   "cell_type": "markdown",
   "id": "8efc374a",
   "metadata": {},
   "source": [
    "### compare ramsize with price"
   ]
  },
  {
   "cell_type": "code",
   "execution_count": 20,
   "id": "47df67cf",
   "metadata": {},
   "outputs": [
    {
     "data": {
      "text/plain": [
       "<AxesSubplot:xlabel='RAM_in_GB', ylabel='Price'>"
      ]
     },
     "execution_count": 20,
     "metadata": {},
     "output_type": "execute_result"
    },
    {
     "data": {
      "image/png": "[encoded data removed]",
      "text/plain": [
       "<Figure size 432x288 with 1 Axes>"
      ]
     },
     "metadata": {
      "needs_background": "light"
     },
     "output_type": "display_data"
    }
   ],
   "source": [
    "sns.barplot(x=df['RAM_in_GB'],y=df['Price'])"
   ]
  },
  {
   "cell_type": "markdown",
   "id": "1bd1245b",
   "metadata": {},
   "source": [
    "### count hardisk size"
   ]
  },
  {
   "cell_type": "code",
   "execution_count": 21,
   "id": "63f588bf",
   "metadata": {},
   "outputs": [
    {
     "data": {
      "text/plain": [
       "<AxesSubplot:>"
      ]
     },
     "execution_count": 21,
     "metadata": {},
     "output_type": "execute_result"
    },
    {
     "data": {
      "image/png": "[encoded data removed]",
      "text/plain": [
       "<Figure size 432x288 with 1 Axes>"
      ]
     },
     "metadata": {
      "needs_background": "light"
     },
     "output_type": "display_data"
    }
   ],
   "source": [
    "df['Storage_in_GB'].value_counts().plot(kind='bar')"
   ]
  },
  {
   "cell_type": "markdown",
   "id": "465bbd5b",
   "metadata": {},
   "source": [
    "### compare hardisk size with price"
   ]
  },
  {
   "cell_type": "code",
   "execution_count": 22,
   "id": "48701de2",
   "metadata": {},
   "outputs": [
    {
     "data": {
      "text/plain": [
       "<AxesSubplot:>"
      ]
     },
     "execution_count": 22,
     "metadata": {},
     "output_type": "execute_result"
    },
    {
     "data": {
      "image/png": "[encoded data removed]",
      "text/plain": [
       "<Figure size 432x288 with 1 Axes>"
      ]
     },
     "metadata": {
      "needs_background": "light"
     },
     "output_type": "display_data"
    }
   ],
   "source": [
    "df['Storage_type'].value_counts().plot(kind='bar')"
   ]
  },
  {
   "cell_type": "code",
   "execution_count": 23,
   "id": "40698116",
   "metadata": {},
   "outputs": [
    {
     "data": {
      "text/plain": [
       "64 bit Windows 10 Operating System                                                                                         576\n",
       "Windows 10 Operating System                                                                                                 70\n",
       "Mac OS Operating System                                                                                                     14\n",
       "Chrome Operating System                                                                                                      7\n",
       "64 bit DOS Operating System                                                                                                  7\n",
       "64 bit Windows 11 Operating System                                                                                           7\n",
       "Pre-installed Genuine Windows 10 Operating System (Includes Built-in Security, Free Automated Updates, Latest Features)      6\n",
       "64 bit Chrome Operating System                                                                                               3\n",
       "DOS Operating System                                                                                                         2\n",
       "64 bit Windows 8 Operating System                                                                                            1\n",
       "32 bit Chrome Operating System                                                                                               1\n",
       "Name: Operating_system, dtype: int64"
      ]
     },
     "execution_count": 23,
     "metadata": {},
     "output_type": "execute_result"
    }
   ],
   "source": [
    "df['Operating_system'].value_counts()"
   ]
  },
  {
   "cell_type": "code",
   "execution_count": 24,
   "id": "91596dbd",
   "metadata": {},
   "outputs": [
    {
     "data": {
      "text/plain": [
       "array(['64 bit Windows 10 Operating System', 'Mac OS Operating System',\n",
       "       'Windows 10 Operating System', '64 bit DOS Operating System',\n",
       "       '64 bit Windows 11 Operating System', 'Chrome Operating System',\n",
       "       '64 bit Chrome Operating System',\n",
       "       'Pre-installed Genuine Windows 10 Operating System (Includes Built-in Security, Free Automated Updates, Latest Features)',\n",
       "       '64 bit Windows 8 Operating System',\n",
       "       '32 bit Chrome Operating System', 'DOS Operating System'],\n",
       "      dtype=object)"
      ]
     },
     "execution_count": 24,
     "metadata": {},
     "output_type": "execute_result"
    }
   ],
   "source": [
    "df['Operating_system'].unique()"
   ]
  },
  {
   "cell_type": "markdown",
   "id": "5661144e",
   "metadata": {},
   "source": [
    "### preprocess operating system attribute"
   ]
  },
  {
   "cell_type": "code",
   "execution_count": 25,
   "id": "bc1b2f2a",
   "metadata": {},
   "outputs": [],
   "source": [
    "def cat_os(x):\n",
    "    if('Windows 8' in x or 'Windows 11' in x or 'Windows 10' in x or 'Windows 7' in x):\n",
    "        return \"Windows\"\n",
    "    elif ('Mac OS' in x):\n",
    "        return \"Mac OS\"\n",
    "    elif ('DOS'in x):\n",
    "        return \"DOS\"\n",
    "    else:\n",
    "        return \"Chrome\"\n",
    "    "
   ]
  },
  {
   "cell_type": "code",
   "execution_count": 26,
   "id": "a5c7b5a8",
   "metadata": {},
   "outputs": [],
   "source": [
    "df['OS']=df['Operating_system'].apply(cat_os)"
   ]
  },
  {
   "cell_type": "code",
   "execution_count": 27,
   "id": "9e45e722",
   "metadata": {},
   "outputs": [
    {
     "data": {
      "text/plain": [
       "array(['Windows', 'Mac OS', 'DOS', 'Chrome'], dtype=object)"
      ]
     },
     "execution_count": 27,
     "metadata": {},
     "output_type": "execute_result"
    }
   ],
   "source": [
    "df['OS'].unique()"
   ]
  },
  {
   "cell_type": "markdown",
   "id": "ab6353e9",
   "metadata": {},
   "source": [
    "### counting operating system and compare operating system with price"
   ]
  },
  {
   "cell_type": "code",
   "execution_count": 28,
   "id": "67b59041",
   "metadata": {},
   "outputs": [
    {
     "data": {
      "text/plain": [
       "<AxesSubplot:>"
      ]
     },
     "execution_count": 28,
     "metadata": {},
     "output_type": "execute_result"
    },
    {
     "data": {
      "image/png": "[encoded data removed]",
      "text/plain": [
       "<Figure size 432x288 with 1 Axes>"
      ]
     },
     "metadata": {
      "needs_background": "light"
     },
     "output_type": "display_data"
    }
   ],
   "source": [
    "df['OS'].value_counts().plot(kind='bar')"
   ]
  },
  {
   "cell_type": "code",
   "execution_count": 29,
   "id": "f96fc5e1",
   "metadata": {},
   "outputs": [
    {
     "data": {
      "text/plain": [
       "(array([0, 1, 2, 3]),\n",
       " [Text(0, 0, 'Windows'),\n",
       "  Text(1, 0, 'Mac OS'),\n",
       "  Text(2, 0, 'DOS'),\n",
       "  Text(3, 0, 'Chrome')])"
      ]
     },
     "execution_count": 29,
     "metadata": {},
     "output_type": "execute_result"
    },
    {
     "data": {
      "image/png": "[encoded data removed]",
      "text/plain": [
       "<Figure size 432x288 with 1 Axes>"
      ]
     },
     "metadata": {
      "needs_background": "light"
     },
     "output_type": "display_data"
    }
   ],
   "source": [
    "sns.barplot(x=df['OS'],y=df['Price'])\n",
    "plt.xticks(rotation='vertical')\n"
   ]
  },
  {
   "cell_type": "markdown",
   "id": "96a6cfee",
   "metadata": {},
   "source": [
    "### convert text into label encoding\n",
    "### import label encoder"
   ]
  },
  {
   "cell_type": "code",
   "execution_count": 30,
   "id": "af78e543",
   "metadata": {},
   "outputs": [],
   "source": [
    "from sklearn.preprocessing import LabelEncoder\n",
    "def encoding(feature):\n",
    "    df[feature+'_name_encoded'] = LabelEncoder().fit_transform(df[feature])\n",
    "features = ['Processor_generation','Storage_type','company','OS']"
   ]
  },
  {
   "cell_type": "code",
   "execution_count": 31,
   "id": "74a3ab02",
   "metadata": {},
   "outputs": [],
   "source": [
    "for i in features:\n",
    "    encoding(i)"
   ]
  },
  {
   "cell_type": "code",
   "execution_count": 32,
   "id": "cd67293c",
   "metadata": {},
   "outputs": [],
   "source": [
    "df_model = df[['Price','Processor_generation_name_encoded','RAM_in_GB','Storage_in_GB','Storage_type_name_encoded','company_name_encoded','TouchScreen','OS_name_encoded']]"
   ]
  },
  {
   "cell_type": "code",
   "execution_count": 33,
   "id": "47407fbe",
   "metadata": {},
   "outputs": [
    {
     "data": {
      "text/html": [
       "<div>\n",
       "<style scoped>\n",
       "    .dataframe tbody tr th:only-of-type {\n",
       "        vertical-align: middle;\n",
       "    }\n",
       "\n",
       "    .dataframe tbody tr th {\n",
       "        vertical-align: top;\n",
       "    }\n",
       "\n",
       "    .dataframe thead th {\n",
       "        text-align: right;\n",
       "    }\n",
       "</style>\n",
       "<table border=\"1\" class=\"dataframe\">\n",
       "  <thead>\n",
       "    <tr style=\"text-align: right;\">\n",
       "      <th></th>\n",
       "      <th>Price</th>\n",
       "      <th>Processor_generation_name_encoded</th>\n",
       "      <th>RAM_in_GB</th>\n",
       "      <th>Storage_in_GB</th>\n",
       "      <th>Storage_type_name_encoded</th>\n",
       "      <th>company_name_encoded</th>\n",
       "      <th>TouchScreen</th>\n",
       "      <th>OS_name_encoded</th>\n",
       "    </tr>\n",
       "  </thead>\n",
       "  <tbody>\n",
       "    <tr>\n",
       "      <th>0</th>\n",
       "      <td>36990.0</td>\n",
       "      <td>5</td>\n",
       "      <td>8</td>\n",
       "      <td>1000</td>\n",
       "      <td>1</td>\n",
       "      <td>8</td>\n",
       "      <td>0</td>\n",
       "      <td>3</td>\n",
       "    </tr>\n",
       "    <tr>\n",
       "      <th>1</th>\n",
       "      <td>44990.0</td>\n",
       "      <td>5</td>\n",
       "      <td>4</td>\n",
       "      <td>512</td>\n",
       "      <td>2</td>\n",
       "      <td>3</td>\n",
       "      <td>1</td>\n",
       "      <td>3</td>\n",
       "    </tr>\n",
       "    <tr>\n",
       "      <th>2</th>\n",
       "      <td>27990.0</td>\n",
       "      <td>5</td>\n",
       "      <td>4</td>\n",
       "      <td>1000</td>\n",
       "      <td>1</td>\n",
       "      <td>3</td>\n",
       "      <td>0</td>\n",
       "      <td>3</td>\n",
       "    </tr>\n",
       "    <tr>\n",
       "      <th>3</th>\n",
       "      <td>82990.0</td>\n",
       "      <td>6</td>\n",
       "      <td>8</td>\n",
       "      <td>256</td>\n",
       "      <td>2</td>\n",
       "      <td>2</td>\n",
       "      <td>0</td>\n",
       "      <td>2</td>\n",
       "    </tr>\n",
       "    <tr>\n",
       "      <th>4</th>\n",
       "      <td>47990.0</td>\n",
       "      <td>5</td>\n",
       "      <td>8</td>\n",
       "      <td>512</td>\n",
       "      <td>2</td>\n",
       "      <td>3</td>\n",
       "      <td>0</td>\n",
       "      <td>3</td>\n",
       "    </tr>\n",
       "    <tr>\n",
       "      <th>...</th>\n",
       "      <td>...</td>\n",
       "      <td>...</td>\n",
       "      <td>...</td>\n",
       "      <td>...</td>\n",
       "      <td>...</td>\n",
       "      <td>...</td>\n",
       "      <td>...</td>\n",
       "      <td>...</td>\n",
       "    </tr>\n",
       "    <tr>\n",
       "      <th>689</th>\n",
       "      <td>44097.0</td>\n",
       "      <td>6</td>\n",
       "      <td>8</td>\n",
       "      <td>1000</td>\n",
       "      <td>2</td>\n",
       "      <td>6</td>\n",
       "      <td>0</td>\n",
       "      <td>3</td>\n",
       "    </tr>\n",
       "    <tr>\n",
       "      <th>690</th>\n",
       "      <td>35585.0</td>\n",
       "      <td>7</td>\n",
       "      <td>4</td>\n",
       "      <td>1000</td>\n",
       "      <td>1</td>\n",
       "      <td>6</td>\n",
       "      <td>0</td>\n",
       "      <td>3</td>\n",
       "    </tr>\n",
       "    <tr>\n",
       "      <th>691</th>\n",
       "      <td>43781.0</td>\n",
       "      <td>5</td>\n",
       "      <td>8</td>\n",
       "      <td>512</td>\n",
       "      <td>2</td>\n",
       "      <td>6</td>\n",
       "      <td>0</td>\n",
       "      <td>3</td>\n",
       "    </tr>\n",
       "    <tr>\n",
       "      <th>692</th>\n",
       "      <td>93400.0</td>\n",
       "      <td>6</td>\n",
       "      <td>8</td>\n",
       "      <td>256</td>\n",
       "      <td>2</td>\n",
       "      <td>6</td>\n",
       "      <td>0</td>\n",
       "      <td>3</td>\n",
       "    </tr>\n",
       "    <tr>\n",
       "      <th>693</th>\n",
       "      <td>61373.0</td>\n",
       "      <td>5</td>\n",
       "      <td>8</td>\n",
       "      <td>1000</td>\n",
       "      <td>2</td>\n",
       "      <td>6</td>\n",
       "      <td>1</td>\n",
       "      <td>3</td>\n",
       "    </tr>\n",
       "  </tbody>\n",
       "</table>\n",
       "<p>694 rows × 8 columns</p>\n",
       "</div>"
      ],
      "text/plain": [
       "       Price  Processor_generation_name_encoded  RAM_in_GB  Storage_in_GB  \\\n",
       "0    36990.0                                  5          8           1000   \n",
       "1    44990.0                                  5          4            512   \n",
       "2    27990.0                                  5          4           1000   \n",
       "3    82990.0                                  6          8            256   \n",
       "4    47990.0                                  5          8            512   \n",
       "..       ...                                ...        ...            ...   \n",
       "689  44097.0                                  6          8           1000   \n",
       "690  35585.0                                  7          4           1000   \n",
       "691  43781.0                                  5          8            512   \n",
       "692  93400.0                                  6          8            256   \n",
       "693  61373.0                                  5          8           1000   \n",
       "\n",
       "     Storage_type_name_encoded  company_name_encoded  TouchScreen  \\\n",
       "0                            1                     8            0   \n",
       "1                            2                     3            1   \n",
       "2                            1                     3            0   \n",
       "3                            2                     2            0   \n",
       "4                            2                     3            0   \n",
       "..                         ...                   ...          ...   \n",
       "689                          2                     6            0   \n",
       "690                          1                     6            0   \n",
       "691                          2                     6            0   \n",
       "692                          2                     6            0   \n",
       "693                          2                     6            1   \n",
       "\n",
       "     OS_name_encoded  \n",
       "0                  3  \n",
       "1                  3  \n",
       "2                  3  \n",
       "3                  2  \n",
       "4                  3  \n",
       "..               ...  \n",
       "689                3  \n",
       "690                3  \n",
       "691                3  \n",
       "692                3  \n",
       "693                3  \n",
       "\n",
       "[694 rows x 8 columns]"
      ]
     },
     "execution_count": 33,
     "metadata": {},
     "output_type": "execute_result"
    }
   ],
   "source": [
    "df_model"
   ]
  },
  {
   "cell_type": "markdown",
   "id": "ae249d23",
   "metadata": {},
   "source": [
    "### plot heatmap to show correlation with each attribute"
   ]
  },
  {
   "cell_type": "code",
   "execution_count": 3,
   "id": "2669ad5f",
   "metadata": {},
   "outputs": [
    {
     "ename": "NameError",
     "evalue": "name 'sns' is not defined",
     "output_type": "error",
     "traceback": [
      "\u001b[0;31m---------------------------------------------------------------------------\u001b[0m",
      "\u001b[0;31mNameError\u001b[0m                                 Traceback (most recent call last)",
      "\u001b[0;32m<ipython-input-3-c398bbdb038c>\u001b[0m in \u001b[0;36m<module>\u001b[0;34m\u001b[0m\n\u001b[0;32m----> 1\u001b[0;31m \u001b[0msns\u001b[0m\u001b[0;34m.\u001b[0m\u001b[0mheatmap\u001b[0m\u001b[0;34m(\u001b[0m\u001b[0mdf_model\u001b[0m\u001b[0;34m.\u001b[0m\u001b[0mcorr\u001b[0m\u001b[0;34m(\u001b[0m\u001b[0;34m)\u001b[0m\u001b[0;34m)\u001b[0m\u001b[0;34m\u001b[0m\u001b[0;34m\u001b[0m\u001b[0m\n\u001b[0m\u001b[1;32m      2\u001b[0m \u001b[0mdf_model\u001b[0m\u001b[0;34m.\u001b[0m\u001b[0mcorr\u001b[0m\u001b[0;34m(\u001b[0m\u001b[0;34m)\u001b[0m\u001b[0;34m\u001b[0m\u001b[0;34m\u001b[0m\u001b[0m\n",
      "\u001b[0;31mNameError\u001b[0m: name 'sns' is not defined"
     ]
    }
   ],
   "source": [
    "\n",
    "sns.heatmap(df_model.corr())\n",
    "df_model.corr()"
   ]
  },
  {
   "cell_type": "markdown",
   "id": "cade6096",
   "metadata": {},
   "source": [
    "### find correlation with price"
   ]
  },
  {
   "cell_type": "code",
   "execution_count": 35,
   "id": "1988f778",
   "metadata": {},
   "outputs": [
    {
     "data": {
      "text/plain": [
       "Price                                1.000000\n",
       "Processor_generation_name_encoded   -0.018077\n",
       "RAM_in_GB                            0.717832\n",
       "Storage_in_GB                        0.114368\n",
       "Storage_type_name_encoded           -0.056356\n",
       "company_name_encoded                -0.138491\n",
       "TouchScreen                          0.032570\n",
       "OS_name_encoded                      0.000359\n",
       "Name: Price, dtype: float64"
      ]
     },
     "execution_count": 35,
     "metadata": {},
     "output_type": "execute_result"
    }
   ],
   "source": [
    "df_model.corr()['Price']"
   ]
  },
  {
   "cell_type": "code",
   "execution_count": 36,
   "id": "fe0c7afe",
   "metadata": {},
   "outputs": [
    {
     "data": {
      "text/html": [
       "<div>\n",
       "<style scoped>\n",
       "    .dataframe tbody tr th:only-of-type {\n",
       "        vertical-align: middle;\n",
       "    }\n",
       "\n",
       "    .dataframe tbody tr th {\n",
       "        vertical-align: top;\n",
       "    }\n",
       "\n",
       "    .dataframe thead th {\n",
       "        text-align: right;\n",
       "    }\n",
       "</style>\n",
       "<table border=\"1\" class=\"dataframe\">\n",
       "  <thead>\n",
       "    <tr style=\"text-align: right;\">\n",
       "      <th></th>\n",
       "      <th>Unnamed: 0</th>\n",
       "      <th>Product_description</th>\n",
       "      <th>Price</th>\n",
       "      <th>Rating</th>\n",
       "      <th>Processor</th>\n",
       "      <th>RAM</th>\n",
       "      <th>Storage</th>\n",
       "      <th>Operating_system</th>\n",
       "      <th>Display_size</th>\n",
       "      <th>Warranty</th>\n",
       "      <th>...</th>\n",
       "      <th>RAM_in_GB</th>\n",
       "      <th>Storage_in_GB</th>\n",
       "      <th>Storage_type</th>\n",
       "      <th>company</th>\n",
       "      <th>TouchScreen</th>\n",
       "      <th>OS</th>\n",
       "      <th>Processor_generation_name_encoded</th>\n",
       "      <th>Storage_type_name_encoded</th>\n",
       "      <th>company_name_encoded</th>\n",
       "      <th>OS_name_encoded</th>\n",
       "    </tr>\n",
       "  </thead>\n",
       "  <tbody>\n",
       "    <tr>\n",
       "      <th>0</th>\n",
       "      <td>0</td>\n",
       "      <td>Lenovo IdeaPad 3 Core i3 10th Gen - (8 GB/1 TB...</td>\n",
       "      <td>36990.0</td>\n",
       "      <td>4.2</td>\n",
       "      <td>Intel Core i3 Processor (10th Gen)</td>\n",
       "      <td>8 GB DDR4 RAM</td>\n",
       "      <td>1 TB HDD</td>\n",
       "      <td>64 bit Windows 10 Operating System</td>\n",
       "      <td>39.62 cm (15.6 inch) Display</td>\n",
       "      <td>1 Year Warranty Term</td>\n",
       "      <td>...</td>\n",
       "      <td>8</td>\n",
       "      <td>1000</td>\n",
       "      <td>HDD</td>\n",
       "      <td>Lenovo</td>\n",
       "      <td>0</td>\n",
       "      <td>Windows</td>\n",
       "      <td>5</td>\n",
       "      <td>1</td>\n",
       "      <td>8</td>\n",
       "      <td>3</td>\n",
       "    </tr>\n",
       "    <tr>\n",
       "      <th>1</th>\n",
       "      <td>1</td>\n",
       "      <td>ASUS VivoBook Flip 14 Touch Panel Core i3 10th...</td>\n",
       "      <td>44990.0</td>\n",
       "      <td>4.2</td>\n",
       "      <td>Intel Core i3 Processor (10th Gen)</td>\n",
       "      <td>4 GB DDR4 RAM</td>\n",
       "      <td>512 GB SSD</td>\n",
       "      <td>64 bit Windows 10 Operating System</td>\n",
       "      <td>35.56 cm (14 inch) Touchscreen Display</td>\n",
       "      <td>1 Year Onsite Warranty</td>\n",
       "      <td>...</td>\n",
       "      <td>4</td>\n",
       "      <td>512</td>\n",
       "      <td>SSD</td>\n",
       "      <td>Asus</td>\n",
       "      <td>1</td>\n",
       "      <td>Windows</td>\n",
       "      <td>5</td>\n",
       "      <td>2</td>\n",
       "      <td>3</td>\n",
       "      <td>3</td>\n",
       "    </tr>\n",
       "    <tr>\n",
       "      <th>2</th>\n",
       "      <td>2</td>\n",
       "      <td>ASUS VivoBook 15 Core i3 7th Gen - (4 GB/1 TB ...</td>\n",
       "      <td>27990.0</td>\n",
       "      <td>4.0</td>\n",
       "      <td>Intel Core i3 Processor (7th Gen)</td>\n",
       "      <td>4 GB DDR4 RAM</td>\n",
       "      <td>1 TB HDD</td>\n",
       "      <td>64 bit Windows 10 Operating System</td>\n",
       "      <td>39.62 cm (15.6 inch) Display</td>\n",
       "      <td>1 Year Onsite Warranty</td>\n",
       "      <td>...</td>\n",
       "      <td>4</td>\n",
       "      <td>1000</td>\n",
       "      <td>HDD</td>\n",
       "      <td>Asus</td>\n",
       "      <td>0</td>\n",
       "      <td>Windows</td>\n",
       "      <td>5</td>\n",
       "      <td>1</td>\n",
       "      <td>3</td>\n",
       "      <td>3</td>\n",
       "    </tr>\n",
       "    <tr>\n",
       "      <th>3</th>\n",
       "      <td>3</td>\n",
       "      <td>APPLE MacBook Air M1 - (8 GB/256 GB SSD/Mac OS...</td>\n",
       "      <td>82990.0</td>\n",
       "      <td>4.7</td>\n",
       "      <td>Intel Core i5 Processor (10th Gen)</td>\n",
       "      <td>8 GB DDR4 RAM</td>\n",
       "      <td>256 GB SSD</td>\n",
       "      <td>Mac OS Operating System</td>\n",
       "      <td>33.78 cm (13.3 inch) Display</td>\n",
       "      <td>1 Year Onsite Warranty</td>\n",
       "      <td>...</td>\n",
       "      <td>8</td>\n",
       "      <td>256</td>\n",
       "      <td>SSD</td>\n",
       "      <td>Apple</td>\n",
       "      <td>0</td>\n",
       "      <td>Mac OS</td>\n",
       "      <td>6</td>\n",
       "      <td>2</td>\n",
       "      <td>2</td>\n",
       "      <td>2</td>\n",
       "    </tr>\n",
       "    <tr>\n",
       "      <th>4</th>\n",
       "      <td>4</td>\n",
       "      <td>ASUS Core i5 10th Gen - (8 GB + 32 GB Optane/5...</td>\n",
       "      <td>47990.0</td>\n",
       "      <td>4.2</td>\n",
       "      <td>Intel Core i3 Processor (10th Gen)</td>\n",
       "      <td>8 GB DDR4 RAM</td>\n",
       "      <td>512 GB SSD</td>\n",
       "      <td>64 bit Windows 10 Operating System</td>\n",
       "      <td>39.62 cm (15.6 inch) Display</td>\n",
       "      <td>1 Year Onsite Warranty</td>\n",
       "      <td>...</td>\n",
       "      <td>8</td>\n",
       "      <td>512</td>\n",
       "      <td>SSD</td>\n",
       "      <td>Asus</td>\n",
       "      <td>0</td>\n",
       "      <td>Windows</td>\n",
       "      <td>5</td>\n",
       "      <td>2</td>\n",
       "      <td>3</td>\n",
       "      <td>3</td>\n",
       "    </tr>\n",
       "    <tr>\n",
       "      <th>...</th>\n",
       "      <td>...</td>\n",
       "      <td>...</td>\n",
       "      <td>...</td>\n",
       "      <td>...</td>\n",
       "      <td>...</td>\n",
       "      <td>...</td>\n",
       "      <td>...</td>\n",
       "      <td>...</td>\n",
       "      <td>...</td>\n",
       "      <td>...</td>\n",
       "      <td>...</td>\n",
       "      <td>...</td>\n",
       "      <td>...</td>\n",
       "      <td>...</td>\n",
       "      <td>...</td>\n",
       "      <td>...</td>\n",
       "      <td>...</td>\n",
       "      <td>...</td>\n",
       "      <td>...</td>\n",
       "      <td>...</td>\n",
       "      <td>...</td>\n",
       "    </tr>\n",
       "    <tr>\n",
       "      <th>689</th>\n",
       "      <td>689</td>\n",
       "      <td>HP 14q Core i5 8th Gen - (8 GB/1 TB HDD/Window...</td>\n",
       "      <td>44097.0</td>\n",
       "      <td>4.8</td>\n",
       "      <td>Intel Core i5 Processor (11th Gen)</td>\n",
       "      <td>4 GB DDR4 RAM</td>\n",
       "      <td>512 GB SSD</td>\n",
       "      <td>64 bit Windows 10 Operating System</td>\n",
       "      <td>39.62 cm (15.6 inch) Display</td>\n",
       "      <td>18 Months Warranty + 6 Months Extended Warrant...</td>\n",
       "      <td>...</td>\n",
       "      <td>8</td>\n",
       "      <td>1000</td>\n",
       "      <td>SSD</td>\n",
       "      <td>HP</td>\n",
       "      <td>0</td>\n",
       "      <td>Windows</td>\n",
       "      <td>6</td>\n",
       "      <td>2</td>\n",
       "      <td>6</td>\n",
       "      <td>3</td>\n",
       "    </tr>\n",
       "    <tr>\n",
       "      <th>690</th>\n",
       "      <td>690</td>\n",
       "      <td>HP 14q Core i3 7th Gen - (4 GB/1 TB HDD/Window...</td>\n",
       "      <td>35585.0</td>\n",
       "      <td>5.0</td>\n",
       "      <td>Intel Core i3 Processor (10th Gen)</td>\n",
       "      <td>8 GB DDR4 RAM</td>\n",
       "      <td>1 TB HDD</td>\n",
       "      <td>64 bit Windows 10 Operating System</td>\n",
       "      <td>39.62 cm (15.6 inch) Display</td>\n",
       "      <td>1 Year Onsite Warranty</td>\n",
       "      <td>...</td>\n",
       "      <td>4</td>\n",
       "      <td>1000</td>\n",
       "      <td>HDD</td>\n",
       "      <td>HP</td>\n",
       "      <td>0</td>\n",
       "      <td>Windows</td>\n",
       "      <td>7</td>\n",
       "      <td>1</td>\n",
       "      <td>6</td>\n",
       "      <td>3</td>\n",
       "    </tr>\n",
       "    <tr>\n",
       "      <th>691</th>\n",
       "      <td>691</td>\n",
       "      <td>HP 15s Core i3 8th Gen - (8 GB/1 TB HDD/Window...</td>\n",
       "      <td>43781.0</td>\n",
       "      <td>4.0</td>\n",
       "      <td>AMD Ryzen 9 Octa Core Processor</td>\n",
       "      <td>4 GB DDR4 RAM</td>\n",
       "      <td>1 TB SSD</td>\n",
       "      <td>Windows 10 Operating System</td>\n",
       "      <td>35.56 cm (14 inch) Display</td>\n",
       "      <td>18 Months Warranty + 6 Months Extended Warrant...</td>\n",
       "      <td>...</td>\n",
       "      <td>8</td>\n",
       "      <td>512</td>\n",
       "      <td>SSD</td>\n",
       "      <td>HP</td>\n",
       "      <td>0</td>\n",
       "      <td>Windows</td>\n",
       "      <td>5</td>\n",
       "      <td>2</td>\n",
       "      <td>6</td>\n",
       "      <td>3</td>\n",
       "    </tr>\n",
       "    <tr>\n",
       "      <th>692</th>\n",
       "      <td>692</td>\n",
       "      <td>HP Pavilion Gaming Core i5 10th Gen - (8 GB/1 ...</td>\n",
       "      <td>93400.0</td>\n",
       "      <td>4.2</td>\n",
       "      <td>Intel Core i3 Processor (11th Gen)</td>\n",
       "      <td>8 GB DDR4 RAM</td>\n",
       "      <td>512 GB SSD</td>\n",
       "      <td>Windows 10 Operating System</td>\n",
       "      <td>39.62 cm (15.6 inch) Display</td>\n",
       "      <td>2 Years Warranty</td>\n",
       "      <td>...</td>\n",
       "      <td>8</td>\n",
       "      <td>256</td>\n",
       "      <td>SSD</td>\n",
       "      <td>HP</td>\n",
       "      <td>0</td>\n",
       "      <td>Windows</td>\n",
       "      <td>6</td>\n",
       "      <td>2</td>\n",
       "      <td>6</td>\n",
       "      <td>3</td>\n",
       "    </tr>\n",
       "    <tr>\n",
       "      <th>693</th>\n",
       "      <td>693</td>\n",
       "      <td>HP 14S Core i5 8th Gen - (8 GB/1 TB HDD/Window...</td>\n",
       "      <td>61373.0</td>\n",
       "      <td>4.2</td>\n",
       "      <td>Intel Celeron Dual Core Processor</td>\n",
       "      <td>8 GB DDR4 RAM</td>\n",
       "      <td>256 GB SSD</td>\n",
       "      <td>64 bit Windows 10 Operating System</td>\n",
       "      <td>35.56 cm (14 inch) Touchscreen Display</td>\n",
       "      <td>18 Months Warranty + 6 Months Extended Warrant...</td>\n",
       "      <td>...</td>\n",
       "      <td>8</td>\n",
       "      <td>1000</td>\n",
       "      <td>SSD</td>\n",
       "      <td>HP</td>\n",
       "      <td>1</td>\n",
       "      <td>Windows</td>\n",
       "      <td>5</td>\n",
       "      <td>2</td>\n",
       "      <td>6</td>\n",
       "      <td>3</td>\n",
       "    </tr>\n",
       "  </tbody>\n",
       "</table>\n",
       "<p>694 rows × 21 columns</p>\n",
       "</div>"
      ],
      "text/plain": [
       "     Unnamed: 0                                Product_description    Price  \\\n",
       "0             0  Lenovo IdeaPad 3 Core i3 10th Gen - (8 GB/1 TB...  36990.0   \n",
       "1             1  ASUS VivoBook Flip 14 Touch Panel Core i3 10th...  44990.0   \n",
       "2             2  ASUS VivoBook 15 Core i3 7th Gen - (4 GB/1 TB ...  27990.0   \n",
       "3             3  APPLE MacBook Air M1 - (8 GB/256 GB SSD/Mac OS...  82990.0   \n",
       "4             4  ASUS Core i5 10th Gen - (8 GB + 32 GB Optane/5...  47990.0   \n",
       "..          ...                                                ...      ...   \n",
       "689         689  HP 14q Core i5 8th Gen - (8 GB/1 TB HDD/Window...  44097.0   \n",
       "690         690  HP 14q Core i3 7th Gen - (4 GB/1 TB HDD/Window...  35585.0   \n",
       "691         691  HP 15s Core i3 8th Gen - (8 GB/1 TB HDD/Window...  43781.0   \n",
       "692         692  HP Pavilion Gaming Core i5 10th Gen - (8 GB/1 ...  93400.0   \n",
       "693         693  HP 14S Core i5 8th Gen - (8 GB/1 TB HDD/Window...  61373.0   \n",
       "\n",
       "     Rating                           Processor            RAM     Storage  \\\n",
       "0       4.2  Intel Core i3 Processor (10th Gen)  8 GB DDR4 RAM    1 TB HDD   \n",
       "1       4.2  Intel Core i3 Processor (10th Gen)  4 GB DDR4 RAM  512 GB SSD   \n",
       "2       4.0   Intel Core i3 Processor (7th Gen)  4 GB DDR4 RAM    1 TB HDD   \n",
       "3       4.7  Intel Core i5 Processor (10th Gen)  8 GB DDR4 RAM  256 GB SSD   \n",
       "4       4.2  Intel Core i3 Processor (10th Gen)  8 GB DDR4 RAM  512 GB SSD   \n",
       "..      ...                                 ...            ...         ...   \n",
       "689     4.8  Intel Core i5 Processor (11th Gen)  4 GB DDR4 RAM  512 GB SSD   \n",
       "690     5.0  Intel Core i3 Processor (10th Gen)  8 GB DDR4 RAM    1 TB HDD   \n",
       "691     4.0     AMD Ryzen 9 Octa Core Processor  4 GB DDR4 RAM    1 TB SSD   \n",
       "692     4.2  Intel Core i3 Processor (11th Gen)  8 GB DDR4 RAM  512 GB SSD   \n",
       "693     4.2   Intel Celeron Dual Core Processor  8 GB DDR4 RAM  256 GB SSD   \n",
       "\n",
       "                       Operating_system  \\\n",
       "0    64 bit Windows 10 Operating System   \n",
       "1    64 bit Windows 10 Operating System   \n",
       "2    64 bit Windows 10 Operating System   \n",
       "3               Mac OS Operating System   \n",
       "4    64 bit Windows 10 Operating System   \n",
       "..                                  ...   \n",
       "689  64 bit Windows 10 Operating System   \n",
       "690  64 bit Windows 10 Operating System   \n",
       "691         Windows 10 Operating System   \n",
       "692         Windows 10 Operating System   \n",
       "693  64 bit Windows 10 Operating System   \n",
       "\n",
       "                               Display_size  \\\n",
       "0              39.62 cm (15.6 inch) Display   \n",
       "1    35.56 cm (14 inch) Touchscreen Display   \n",
       "2              39.62 cm (15.6 inch) Display   \n",
       "3              33.78 cm (13.3 inch) Display   \n",
       "4              39.62 cm (15.6 inch) Display   \n",
       "..                                      ...   \n",
       "689            39.62 cm (15.6 inch) Display   \n",
       "690            39.62 cm (15.6 inch) Display   \n",
       "691              35.56 cm (14 inch) Display   \n",
       "692            39.62 cm (15.6 inch) Display   \n",
       "693  35.56 cm (14 inch) Touchscreen Display   \n",
       "\n",
       "                                              Warranty  ... RAM_in_GB  \\\n",
       "0                                 1 Year Warranty Term  ...         8   \n",
       "1                               1 Year Onsite Warranty  ...         4   \n",
       "2                               1 Year Onsite Warranty  ...         4   \n",
       "3                               1 Year Onsite Warranty  ...         8   \n",
       "4                               1 Year Onsite Warranty  ...         8   \n",
       "..                                                 ...  ...       ...   \n",
       "689  18 Months Warranty + 6 Months Extended Warrant...  ...         8   \n",
       "690                             1 Year Onsite Warranty  ...         4   \n",
       "691  18 Months Warranty + 6 Months Extended Warrant...  ...         8   \n",
       "692                                   2 Years Warranty  ...         8   \n",
       "693  18 Months Warranty + 6 Months Extended Warrant...  ...         8   \n",
       "\n",
       "     Storage_in_GB  Storage_type company TouchScreen       OS  \\\n",
       "0             1000           HDD  Lenovo           0  Windows   \n",
       "1              512           SSD    Asus           1  Windows   \n",
       "2             1000           HDD    Asus           0  Windows   \n",
       "3              256           SSD   Apple           0   Mac OS   \n",
       "4              512           SSD    Asus           0  Windows   \n",
       "..             ...           ...     ...         ...      ...   \n",
       "689           1000           SSD      HP           0  Windows   \n",
       "690           1000           HDD      HP           0  Windows   \n",
       "691            512           SSD      HP           0  Windows   \n",
       "692            256           SSD      HP           0  Windows   \n",
       "693           1000           SSD      HP           1  Windows   \n",
       "\n",
       "    Processor_generation_name_encoded  Storage_type_name_encoded  \\\n",
       "0                                   5                          1   \n",
       "1                                   5                          2   \n",
       "2                                   5                          1   \n",
       "3                                   6                          2   \n",
       "4                                   5                          2   \n",
       "..                                ...                        ...   \n",
       "689                                 6                          2   \n",
       "690                                 7                          1   \n",
       "691                                 5                          2   \n",
       "692                                 6                          2   \n",
       "693                                 5                          2   \n",
       "\n",
       "     company_name_encoded  OS_name_encoded  \n",
       "0                       8                3  \n",
       "1                       3                3  \n",
       "2                       3                3  \n",
       "3                       2                2  \n",
       "4                       3                3  \n",
       "..                    ...              ...  \n",
       "689                     6                3  \n",
       "690                     6                3  \n",
       "691                     6                3  \n",
       "692                     6                3  \n",
       "693                     6                3  \n",
       "\n",
       "[694 rows x 21 columns]"
      ]
     },
     "execution_count": 36,
     "metadata": {},
     "output_type": "execute_result"
    }
   ],
   "source": [
    "df"
   ]
  },
  {
   "cell_type": "markdown",
   "id": "045ccb27",
   "metadata": {},
   "source": [
    "# apply log transformation on price"
   ]
  },
  {
   "cell_type": "markdown",
   "id": "c9e9cbf7",
   "metadata": {},
   "source": [
    "sns.distplot(np.log(df['Price']))"
   ]
  },
  {
   "cell_type": "markdown",
   "id": "6eae9065",
   "metadata": {},
   "source": [
    "### plot price distplot on logarithm scale"
   ]
  },
  {
   "cell_type": "code",
   "execution_count": 37,
   "id": "66276c3a",
   "metadata": {},
   "outputs": [
    {
     "data": {
      "text/plain": [
       "<AxesSubplot:xlabel='Price', ylabel='Density'>"
      ]
     },
     "execution_count": 37,
     "metadata": {},
     "output_type": "execute_result"
    },
    {
     "data": {
      "image/png": "[encoded data removed]",
      "text/plain": [
       "<Figure size 432x288 with 1 Axes>"
      ]
     },
     "metadata": {
      "needs_background": "light"
     },
     "output_type": "display_data"
    }
   ],
   "source": [
    "\n",
    "sns.distplot(np.log(df['Price']))"
   ]
  },
  {
   "cell_type": "markdown",
   "id": "8fbbec5a",
   "metadata": {},
   "source": [
    "###  drop unprocessed attributes"
   ]
  },
  {
   "cell_type": "code",
   "execution_count": 38,
   "id": "bedc0bcd",
   "metadata": {},
   "outputs": [],
   "source": [
    "df.drop(['Product_description','Rating','Storage',\"Processor\",'RAM',\"Operating_system\",'Display_size',\"Warranty\",\"Processor_generation_name_encoded\",\"Storage_type_name_encoded\",\"company_name_encoded\",\"OS_name_encoded\"],axis=1,inplace=True)\n",
    "\n",
    "df.drop(columns=['Unnamed: 0'],inplace=True)"
   ]
  },
  {
   "cell_type": "code",
   "execution_count": 39,
   "id": "775a878d",
   "metadata": {},
   "outputs": [
    {
     "data": {
      "text/html": [
       "<div>\n",
       "<style scoped>\n",
       "    .dataframe tbody tr th:only-of-type {\n",
       "        vertical-align: middle;\n",
       "    }\n",
       "\n",
       "    .dataframe tbody tr th {\n",
       "        vertical-align: top;\n",
       "    }\n",
       "\n",
       "    .dataframe thead th {\n",
       "        text-align: right;\n",
       "    }\n",
       "</style>\n",
       "<table border=\"1\" class=\"dataframe\">\n",
       "  <thead>\n",
       "    <tr style=\"text-align: right;\">\n",
       "      <th></th>\n",
       "      <th>Price</th>\n",
       "      <th>Processor_generation</th>\n",
       "      <th>RAM_in_GB</th>\n",
       "      <th>Storage_in_GB</th>\n",
       "      <th>Storage_type</th>\n",
       "      <th>company</th>\n",
       "      <th>TouchScreen</th>\n",
       "      <th>OS</th>\n",
       "    </tr>\n",
       "  </thead>\n",
       "  <tbody>\n",
       "    <tr>\n",
       "      <th>0</th>\n",
       "      <td>36990.0</td>\n",
       "      <td>i3</td>\n",
       "      <td>8</td>\n",
       "      <td>1000</td>\n",
       "      <td>HDD</td>\n",
       "      <td>Lenovo</td>\n",
       "      <td>0</td>\n",
       "      <td>Windows</td>\n",
       "    </tr>\n",
       "    <tr>\n",
       "      <th>1</th>\n",
       "      <td>44990.0</td>\n",
       "      <td>i3</td>\n",
       "      <td>4</td>\n",
       "      <td>512</td>\n",
       "      <td>SSD</td>\n",
       "      <td>Asus</td>\n",
       "      <td>1</td>\n",
       "      <td>Windows</td>\n",
       "    </tr>\n",
       "    <tr>\n",
       "      <th>2</th>\n",
       "      <td>27990.0</td>\n",
       "      <td>i3</td>\n",
       "      <td>4</td>\n",
       "      <td>1000</td>\n",
       "      <td>HDD</td>\n",
       "      <td>Asus</td>\n",
       "      <td>0</td>\n",
       "      <td>Windows</td>\n",
       "    </tr>\n",
       "    <tr>\n",
       "      <th>3</th>\n",
       "      <td>82990.0</td>\n",
       "      <td>i5</td>\n",
       "      <td>8</td>\n",
       "      <td>256</td>\n",
       "      <td>SSD</td>\n",
       "      <td>Apple</td>\n",
       "      <td>0</td>\n",
       "      <td>Mac OS</td>\n",
       "    </tr>\n",
       "    <tr>\n",
       "      <th>4</th>\n",
       "      <td>47990.0</td>\n",
       "      <td>i3</td>\n",
       "      <td>8</td>\n",
       "      <td>512</td>\n",
       "      <td>SSD</td>\n",
       "      <td>Asus</td>\n",
       "      <td>0</td>\n",
       "      <td>Windows</td>\n",
       "    </tr>\n",
       "    <tr>\n",
       "      <th>...</th>\n",
       "      <td>...</td>\n",
       "      <td>...</td>\n",
       "      <td>...</td>\n",
       "      <td>...</td>\n",
       "      <td>...</td>\n",
       "      <td>...</td>\n",
       "      <td>...</td>\n",
       "      <td>...</td>\n",
       "    </tr>\n",
       "    <tr>\n",
       "      <th>689</th>\n",
       "      <td>44097.0</td>\n",
       "      <td>i5</td>\n",
       "      <td>8</td>\n",
       "      <td>1000</td>\n",
       "      <td>SSD</td>\n",
       "      <td>HP</td>\n",
       "      <td>0</td>\n",
       "      <td>Windows</td>\n",
       "    </tr>\n",
       "    <tr>\n",
       "      <th>690</th>\n",
       "      <td>35585.0</td>\n",
       "      <td>i7</td>\n",
       "      <td>4</td>\n",
       "      <td>1000</td>\n",
       "      <td>HDD</td>\n",
       "      <td>HP</td>\n",
       "      <td>0</td>\n",
       "      <td>Windows</td>\n",
       "    </tr>\n",
       "    <tr>\n",
       "      <th>691</th>\n",
       "      <td>43781.0</td>\n",
       "      <td>i3</td>\n",
       "      <td>8</td>\n",
       "      <td>512</td>\n",
       "      <td>SSD</td>\n",
       "      <td>HP</td>\n",
       "      <td>0</td>\n",
       "      <td>Windows</td>\n",
       "    </tr>\n",
       "    <tr>\n",
       "      <th>692</th>\n",
       "      <td>93400.0</td>\n",
       "      <td>i5</td>\n",
       "      <td>8</td>\n",
       "      <td>256</td>\n",
       "      <td>SSD</td>\n",
       "      <td>HP</td>\n",
       "      <td>0</td>\n",
       "      <td>Windows</td>\n",
       "    </tr>\n",
       "    <tr>\n",
       "      <th>693</th>\n",
       "      <td>61373.0</td>\n",
       "      <td>i3</td>\n",
       "      <td>8</td>\n",
       "      <td>1000</td>\n",
       "      <td>SSD</td>\n",
       "      <td>HP</td>\n",
       "      <td>1</td>\n",
       "      <td>Windows</td>\n",
       "    </tr>\n",
       "  </tbody>\n",
       "</table>\n",
       "<p>694 rows × 8 columns</p>\n",
       "</div>"
      ],
      "text/plain": [
       "       Price Processor_generation  RAM_in_GB  Storage_in_GB Storage_type  \\\n",
       "0    36990.0                   i3          8           1000          HDD   \n",
       "1    44990.0                   i3          4            512          SSD   \n",
       "2    27990.0                   i3          4           1000          HDD   \n",
       "3    82990.0                   i5          8            256          SSD   \n",
       "4    47990.0                   i3          8            512          SSD   \n",
       "..       ...                  ...        ...            ...          ...   \n",
       "689  44097.0                   i5          8           1000          SSD   \n",
       "690  35585.0                   i7          4           1000          HDD   \n",
       "691  43781.0                   i3          8            512          SSD   \n",
       "692  93400.0                   i5          8            256          SSD   \n",
       "693  61373.0                   i3          8           1000          SSD   \n",
       "\n",
       "    company  TouchScreen       OS  \n",
       "0    Lenovo            0  Windows  \n",
       "1      Asus            1  Windows  \n",
       "2      Asus            0  Windows  \n",
       "3     Apple            0   Mac OS  \n",
       "4      Asus            0  Windows  \n",
       "..      ...          ...      ...  \n",
       "689      HP            0  Windows  \n",
       "690      HP            0  Windows  \n",
       "691      HP            0  Windows  \n",
       "692      HP            0  Windows  \n",
       "693      HP            1  Windows  \n",
       "\n",
       "[694 rows x 8 columns]"
      ]
     },
     "execution_count": 39,
     "metadata": {},
     "output_type": "execute_result"
    }
   ],
   "source": [
    "df"
   ]
  },
  {
   "cell_type": "markdown",
   "id": "0fc63269",
   "metadata": {},
   "source": [
    "# here  y is target attribute i.e price and remaining attribute is taken as x"
   ]
  },
  {
   "cell_type": "code",
   "execution_count": 40,
   "id": "fbd77e9d",
   "metadata": {},
   "outputs": [],
   "source": [
    "x=df.drop(columns=['Price'])\n",
    "y=np.log(df['Price'])"
   ]
  },
  {
   "cell_type": "code",
   "execution_count": 41,
   "id": "32b98bb8",
   "metadata": {},
   "outputs": [
    {
     "data": {
      "text/plain": [
       "0      10.518403\n",
       "1      10.714196\n",
       "2      10.239603\n",
       "3      11.326475\n",
       "4      10.778748\n",
       "         ...    \n",
       "689    10.694147\n",
       "690    10.479679\n",
       "691    10.686955\n",
       "692    11.444647\n",
       "693    11.024725\n",
       "Name: Price, Length: 694, dtype: float64"
      ]
     },
     "execution_count": 41,
     "metadata": {},
     "output_type": "execute_result"
    }
   ],
   "source": [
    "y"
   ]
  },
  {
   "cell_type": "markdown",
   "id": "656d3f53",
   "metadata": {},
   "source": [
    "### split into train and test  testsize=15% and traning size=85%"
   ]
  },
  {
   "cell_type": "code",
   "execution_count": 42,
   "id": "b4f56505",
   "metadata": {},
   "outputs": [],
   "source": [
    "from sklearn.model_selection import train_test_split\n",
    "X_train, X_test, y_train, y_test = train_test_split(x, y, test_size=0.15, random_state=2)"
   ]
  },
  {
   "cell_type": "code",
   "execution_count": 43,
   "id": "60186df6",
   "metadata": {},
   "outputs": [
    {
     "data": {
      "text/html": [
       "<div>\n",
       "<style scoped>\n",
       "    .dataframe tbody tr th:only-of-type {\n",
       "        vertical-align: middle;\n",
       "    }\n",
       "\n",
       "    .dataframe tbody tr th {\n",
       "        vertical-align: top;\n",
       "    }\n",
       "\n",
       "    .dataframe thead th {\n",
       "        text-align: right;\n",
       "    }\n",
       "</style>\n",
       "<table border=\"1\" class=\"dataframe\">\n",
       "  <thead>\n",
       "    <tr style=\"text-align: right;\">\n",
       "      <th></th>\n",
       "      <th>Processor_generation</th>\n",
       "      <th>RAM_in_GB</th>\n",
       "      <th>Storage_in_GB</th>\n",
       "      <th>Storage_type</th>\n",
       "      <th>company</th>\n",
       "      <th>TouchScreen</th>\n",
       "      <th>OS</th>\n",
       "    </tr>\n",
       "  </thead>\n",
       "  <tbody>\n",
       "    <tr>\n",
       "      <th>89</th>\n",
       "      <td>i7</td>\n",
       "      <td>4</td>\n",
       "      <td>256</td>\n",
       "      <td>SSD</td>\n",
       "      <td>Asus</td>\n",
       "      <td>0</td>\n",
       "      <td>Windows</td>\n",
       "    </tr>\n",
       "    <tr>\n",
       "      <th>176</th>\n",
       "      <td>i5</td>\n",
       "      <td>8</td>\n",
       "      <td>256</td>\n",
       "      <td>SSD</td>\n",
       "      <td>Lenovo</td>\n",
       "      <td>0</td>\n",
       "      <td>Windows</td>\n",
       "    </tr>\n",
       "    <tr>\n",
       "      <th>37</th>\n",
       "      <td>Ryzen 5</td>\n",
       "      <td>8</td>\n",
       "      <td>512</td>\n",
       "      <td>SSD</td>\n",
       "      <td>Dell</td>\n",
       "      <td>0</td>\n",
       "      <td>Windows</td>\n",
       "    </tr>\n",
       "    <tr>\n",
       "      <th>413</th>\n",
       "      <td>Ryzen 5</td>\n",
       "      <td>8</td>\n",
       "      <td>1000</td>\n",
       "      <td>SSD</td>\n",
       "      <td>Asus</td>\n",
       "      <td>0</td>\n",
       "      <td>Windows</td>\n",
       "    </tr>\n",
       "    <tr>\n",
       "      <th>172</th>\n",
       "      <td>i5</td>\n",
       "      <td>8</td>\n",
       "      <td>1000</td>\n",
       "      <td>HDD</td>\n",
       "      <td>Dell</td>\n",
       "      <td>0</td>\n",
       "      <td>Windows</td>\n",
       "    </tr>\n",
       "    <tr>\n",
       "      <th>...</th>\n",
       "      <td>...</td>\n",
       "      <td>...</td>\n",
       "      <td>...</td>\n",
       "      <td>...</td>\n",
       "      <td>...</td>\n",
       "      <td>...</td>\n",
       "      <td>...</td>\n",
       "    </tr>\n",
       "    <tr>\n",
       "      <th>402</th>\n",
       "      <td>i5</td>\n",
       "      <td>16</td>\n",
       "      <td>512</td>\n",
       "      <td>SSD</td>\n",
       "      <td>Dell</td>\n",
       "      <td>0</td>\n",
       "      <td>Windows</td>\n",
       "    </tr>\n",
       "    <tr>\n",
       "      <th>455</th>\n",
       "      <td>i3</td>\n",
       "      <td>16</td>\n",
       "      <td>1000</td>\n",
       "      <td>HDD</td>\n",
       "      <td>Lenovo</td>\n",
       "      <td>1</td>\n",
       "      <td>Windows</td>\n",
       "    </tr>\n",
       "    <tr>\n",
       "      <th>469</th>\n",
       "      <td>i7</td>\n",
       "      <td>8</td>\n",
       "      <td>1000</td>\n",
       "      <td>SSD</td>\n",
       "      <td>Vaio</td>\n",
       "      <td>0</td>\n",
       "      <td>Windows</td>\n",
       "    </tr>\n",
       "    <tr>\n",
       "      <th>171</th>\n",
       "      <td>i5</td>\n",
       "      <td>8</td>\n",
       "      <td>1256</td>\n",
       "      <td>Both</td>\n",
       "      <td>Lenovo</td>\n",
       "      <td>0</td>\n",
       "      <td>Windows</td>\n",
       "    </tr>\n",
       "    <tr>\n",
       "      <th>519</th>\n",
       "      <td>i5</td>\n",
       "      <td>8</td>\n",
       "      <td>512</td>\n",
       "      <td>SSD</td>\n",
       "      <td>Lenovo</td>\n",
       "      <td>0</td>\n",
       "      <td>Mac OS</td>\n",
       "    </tr>\n",
       "  </tbody>\n",
       "</table>\n",
       "<p>105 rows × 7 columns</p>\n",
       "</div>"
      ],
      "text/plain": [
       "    Processor_generation  RAM_in_GB  Storage_in_GB Storage_type company  \\\n",
       "89                    i7          4            256          SSD    Asus   \n",
       "176                   i5          8            256          SSD  Lenovo   \n",
       "37               Ryzen 5          8            512          SSD    Dell   \n",
       "413              Ryzen 5          8           1000          SSD    Asus   \n",
       "172                   i5          8           1000          HDD    Dell   \n",
       "..                   ...        ...            ...          ...     ...   \n",
       "402                   i5         16            512          SSD    Dell   \n",
       "455                   i3         16           1000          HDD  Lenovo   \n",
       "469                   i7          8           1000          SSD    Vaio   \n",
       "171                   i5          8           1256         Both  Lenovo   \n",
       "519                   i5          8            512          SSD  Lenovo   \n",
       "\n",
       "     TouchScreen       OS  \n",
       "89             0  Windows  \n",
       "176            0  Windows  \n",
       "37             0  Windows  \n",
       "413            0  Windows  \n",
       "172            0  Windows  \n",
       "..           ...      ...  \n",
       "402            0  Windows  \n",
       "455            1  Windows  \n",
       "469            0  Windows  \n",
       "171            0  Windows  \n",
       "519            0   Mac OS  \n",
       "\n",
       "[105 rows x 7 columns]"
      ]
     },
     "execution_count": 43,
     "metadata": {},
     "output_type": "execute_result"
    }
   ],
   "source": [
    "X_test"
   ]
  },
  {
   "cell_type": "markdown",
   "id": "15bf1650",
   "metadata": {},
   "source": [
    "### import column transformer,pipeline ,one hot encoder,linear regression, mse, KNN and SVM modules"
   ]
  },
  {
   "cell_type": "code",
   "execution_count": 44,
   "id": "c529e1de",
   "metadata": {},
   "outputs": [],
   "source": [
    "from sklearn.compose import ColumnTransformer\n",
    "from sklearn.pipeline import Pipeline\n",
    "from sklearn.preprocessing import OneHotEncoder\n",
    "from sklearn.metrics import r2_score,mean_absolute_error\n",
    "from sklearn.linear_model import LinearRegression,Ridge,Lasso\n",
    "from sklearn.neighbors import KNeighborsRegressor\n",
    "\n",
    "\n",
    "from sklearn.svm import SVR\n"
   ]
  },
  {
   "cell_type": "markdown",
   "id": "7dca77a4",
   "metadata": {},
   "source": [
    "### import xgboost "
   ]
  },
  {
   "cell_type": "code",
   "execution_count": 45,
   "id": "436d492a",
   "metadata": {},
   "outputs": [],
   "source": [
    "from xgboost import XGBRegressor"
   ]
  },
  {
   "cell_type": "code",
   "execution_count": 46,
   "id": "5007ee1b",
   "metadata": {},
   "outputs": [
    {
     "name": "stdout",
     "output_type": "stream",
     "text": [
      "Requirement already satisfied: xgboost in /home/lol/anaconda3/lib/python3.8/site-packages (1.5.0)\n",
      "Requirement already satisfied: scipy in /home/lol/anaconda3/lib/python3.8/site-packages (from xgboost) (1.6.2)\n",
      "Requirement already satisfied: numpy in /home/lol/anaconda3/lib/python3.8/site-packages (from xgboost) (1.19.5)\n"
     ]
    }
   ],
   "source": [
    "!pip3 install xgboost"
   ]
  },
  {
   "cell_type": "code",
   "execution_count": 47,
   "id": "f44c926c",
   "metadata": {},
   "outputs": [
    {
     "data": {
      "text/html": [
       "<div>\n",
       "<style scoped>\n",
       "    .dataframe tbody tr th:only-of-type {\n",
       "        vertical-align: middle;\n",
       "    }\n",
       "\n",
       "    .dataframe tbody tr th {\n",
       "        vertical-align: top;\n",
       "    }\n",
       "\n",
       "    .dataframe thead th {\n",
       "        text-align: right;\n",
       "    }\n",
       "</style>\n",
       "<table border=\"1\" class=\"dataframe\">\n",
       "  <thead>\n",
       "    <tr style=\"text-align: right;\">\n",
       "      <th></th>\n",
       "      <th>Price</th>\n",
       "      <th>Processor_generation</th>\n",
       "      <th>RAM_in_GB</th>\n",
       "      <th>Storage_in_GB</th>\n",
       "      <th>Storage_type</th>\n",
       "      <th>company</th>\n",
       "      <th>TouchScreen</th>\n",
       "      <th>OS</th>\n",
       "    </tr>\n",
       "  </thead>\n",
       "  <tbody>\n",
       "    <tr>\n",
       "      <th>0</th>\n",
       "      <td>36990.0</td>\n",
       "      <td>i3</td>\n",
       "      <td>8</td>\n",
       "      <td>1000</td>\n",
       "      <td>HDD</td>\n",
       "      <td>Lenovo</td>\n",
       "      <td>0</td>\n",
       "      <td>Windows</td>\n",
       "    </tr>\n",
       "    <tr>\n",
       "      <th>1</th>\n",
       "      <td>44990.0</td>\n",
       "      <td>i3</td>\n",
       "      <td>4</td>\n",
       "      <td>512</td>\n",
       "      <td>SSD</td>\n",
       "      <td>Asus</td>\n",
       "      <td>1</td>\n",
       "      <td>Windows</td>\n",
       "    </tr>\n",
       "    <tr>\n",
       "      <th>2</th>\n",
       "      <td>27990.0</td>\n",
       "      <td>i3</td>\n",
       "      <td>4</td>\n",
       "      <td>1000</td>\n",
       "      <td>HDD</td>\n",
       "      <td>Asus</td>\n",
       "      <td>0</td>\n",
       "      <td>Windows</td>\n",
       "    </tr>\n",
       "    <tr>\n",
       "      <th>3</th>\n",
       "      <td>82990.0</td>\n",
       "      <td>i5</td>\n",
       "      <td>8</td>\n",
       "      <td>256</td>\n",
       "      <td>SSD</td>\n",
       "      <td>Apple</td>\n",
       "      <td>0</td>\n",
       "      <td>Mac OS</td>\n",
       "    </tr>\n",
       "    <tr>\n",
       "      <th>4</th>\n",
       "      <td>47990.0</td>\n",
       "      <td>i3</td>\n",
       "      <td>8</td>\n",
       "      <td>512</td>\n",
       "      <td>SSD</td>\n",
       "      <td>Asus</td>\n",
       "      <td>0</td>\n",
       "      <td>Windows</td>\n",
       "    </tr>\n",
       "  </tbody>\n",
       "</table>\n",
       "</div>"
      ],
      "text/plain": [
       "     Price Processor_generation  RAM_in_GB  Storage_in_GB Storage_type  \\\n",
       "0  36990.0                   i3          8           1000          HDD   \n",
       "1  44990.0                   i3          4            512          SSD   \n",
       "2  27990.0                   i3          4           1000          HDD   \n",
       "3  82990.0                   i5          8            256          SSD   \n",
       "4  47990.0                   i3          8            512          SSD   \n",
       "\n",
       "  company  TouchScreen       OS  \n",
       "0  Lenovo            0  Windows  \n",
       "1    Asus            1  Windows  \n",
       "2    Asus            0  Windows  \n",
       "3   Apple            0   Mac OS  \n",
       "4    Asus            0  Windows  "
      ]
     },
     "execution_count": 47,
     "metadata": {},
     "output_type": "execute_result"
    }
   ],
   "source": [
    "df.head()"
   ]
  },
  {
   "cell_type": "code",
   "execution_count": 48,
   "id": "d51eee21",
   "metadata": {},
   "outputs": [
    {
     "name": "stdout",
     "output_type": "stream",
     "text": [
      "<class 'pandas.core.frame.DataFrame'>\n",
      "RangeIndex: 694 entries, 0 to 693\n",
      "Data columns (total 8 columns):\n",
      " #   Column                Non-Null Count  Dtype  \n",
      "---  ------                --------------  -----  \n",
      " 0   Price                 694 non-null    float64\n",
      " 1   Processor_generation  694 non-null    object \n",
      " 2   RAM_in_GB             694 non-null    int64  \n",
      " 3   Storage_in_GB         694 non-null    int64  \n",
      " 4   Storage_type          694 non-null    object \n",
      " 5   company               694 non-null    object \n",
      " 6   TouchScreen           694 non-null    int64  \n",
      " 7   OS                    694 non-null    object \n",
      "dtypes: float64(1), int64(3), object(4)\n",
      "memory usage: 43.5+ KB\n"
     ]
    }
   ],
   "source": [
    "df.info()"
   ]
  },
  {
   "cell_type": "code",
   "execution_count": 49,
   "id": "68b49ca4",
   "metadata": {},
   "outputs": [],
   "source": [
    "Listl=[]\n",
    "names=[]"
   ]
  },
  {
   "cell_type": "markdown",
   "id": "9440d2e9",
   "metadata": {},
   "source": [
    "### Linear Regression"
   ]
  },
  {
   "cell_type": "code",
   "execution_count": 50,
   "id": "5b4d70ea",
   "metadata": {},
   "outputs": [
    {
     "name": "stdout",
     "output_type": "stream",
     "text": [
      "R2 score 56.445463335426574\n",
      "MAE 23.63520441700178\n"
     ]
    }
   ],
   "source": [
    "step1 = ColumnTransformer(transformers=[('col_tnf',OneHotEncoder(sparse=False,drop='first'),[0,3,4,6])],remainder='passthrough')\n",
    "\n",
    "step2 = LinearRegression()\n",
    "\n",
    "pipe = Pipeline([('step1',step1),('step2',step2)])\n",
    "\n",
    "pipe.fit(X_train,y_train)\n",
    "\n",
    "y_pred = pipe.predict(X_test)\n",
    "\n",
    "print('R2 score',r2_score(y_test,y_pred)*100)\n",
    "Listl.append(r2_score(y_test,y_pred))\n",
    "names.append('LinearRegression')\n",
    "print('MAE',mean_absolute_error(y_test,y_pred)*100)"
   ]
  },
  {
   "cell_type": "markdown",
   "id": "d5ab7535",
   "metadata": {},
   "source": [
    "### SVM"
   ]
  },
  {
   "cell_type": "code",
   "execution_count": 51,
   "id": "3884b487",
   "metadata": {},
   "outputs": [
    {
     "name": "stdout",
     "output_type": "stream",
     "text": [
      "R2 score 51.3426424439458\n",
      "MAE 24.103744940545877\n"
     ]
    }
   ],
   "source": [
    "step2 = SVR(kernel='rbf',C=10000,epsilon=0.1)\n",
    "\n",
    "pipes = Pipeline([\n",
    "    ('step1',step1),\n",
    "    ('step2',step2)\n",
    "])\n",
    "\n",
    "pipes.fit(X_train,y_train)\n",
    "\n",
    "y_pred = pipes.predict(X_test)\n",
    "\n",
    "print('R2 score',r2_score(y_test,y_pred)*100)\n",
    "Listl.append(r2_score(y_test,y_pred))\n",
    "names.append('SVM')\n",
    "print('MAE',mean_absolute_error(y_test,y_pred)*100)"
   ]
  },
  {
   "cell_type": "markdown",
   "id": "f6587406",
   "metadata": {},
   "source": [
    "# Nearest Neighbour KNN\n"
   ]
  },
  {
   "cell_type": "code",
   "execution_count": 52,
   "id": "b035bda1",
   "metadata": {},
   "outputs": [
    {
     "name": "stdout",
     "output_type": "stream",
     "text": [
      "R2 score 40.63766760934203\n",
      "MAE 27.82130737472918\n"
     ]
    }
   ],
   "source": [
    "step2 = KNeighborsRegressor(n_neighbors=7)\n",
    "\n",
    "pipek = Pipeline([('step1',step1),('step2',step2)])\n",
    "\n",
    "pipek.fit(X_train,y_train)\n",
    "\n",
    "y_pred = pipek.predict(X_test)\n",
    "Listl.append(r2_score(y_test,y_pred))\n",
    "print('R2 score',r2_score(y_test,y_pred)*100)\n",
    "names.append('KNN')\n",
    "print('MAE',mean_absolute_error(y_test,y_pred)*100)"
   ]
  },
  {
   "cell_type": "markdown",
   "id": "03a41864",
   "metadata": {},
   "source": [
    "### DT"
   ]
  },
  {
   "cell_type": "code",
   "execution_count": 53,
   "id": "5adc0cfb",
   "metadata": {},
   "outputs": [
    {
     "name": "stdout",
     "output_type": "stream",
     "text": [
      "R2 score 51.835685841003\n",
      "MAE 24.363362918179202\n"
     ]
    }
   ],
   "source": [
    "from sklearn.tree import DecisionTreeRegressor\n",
    "step2 = DecisionTreeRegressor(max_depth=6)\n",
    "\n",
    "pipeD = Pipeline([\n",
    "    ('step1',step1),\n",
    "    ('step2',step2)\n",
    "])\n",
    "\n",
    "pipeD.fit(X_train,y_train)\n",
    "\n",
    "y_pred = pipeD.predict(X_test)\n",
    "Listl.append(r2_score(y_test,y_pred))\n",
    "\n",
    "print('R2 score',r2_score(y_test,y_pred)*100)\n",
    "names.append('DT')\n",
    "print('MAE',mean_absolute_error(y_test,y_pred)*100)"
   ]
  },
  {
   "cell_type": "code",
   "execution_count": 54,
   "id": "27764528",
   "metadata": {},
   "outputs": [
    {
     "data": {
      "text/html": [
       "<div>\n",
       "<style scoped>\n",
       "    .dataframe tbody tr th:only-of-type {\n",
       "        vertical-align: middle;\n",
       "    }\n",
       "\n",
       "    .dataframe tbody tr th {\n",
       "        vertical-align: top;\n",
       "    }\n",
       "\n",
       "    .dataframe thead th {\n",
       "        text-align: right;\n",
       "    }\n",
       "</style>\n",
       "<table border=\"1\" class=\"dataframe\">\n",
       "  <thead>\n",
       "    <tr style=\"text-align: right;\">\n",
       "      <th></th>\n",
       "      <th>Processor_generation</th>\n",
       "      <th>RAM_in_GB</th>\n",
       "      <th>Storage_in_GB</th>\n",
       "      <th>Storage_type</th>\n",
       "      <th>company</th>\n",
       "      <th>TouchScreen</th>\n",
       "      <th>OS</th>\n",
       "    </tr>\n",
       "  </thead>\n",
       "  <tbody>\n",
       "    <tr>\n",
       "      <th>591</th>\n",
       "      <td>i3</td>\n",
       "      <td>8</td>\n",
       "      <td>512</td>\n",
       "      <td>SSD</td>\n",
       "      <td>Lenovo</td>\n",
       "      <td>0</td>\n",
       "      <td>Windows</td>\n",
       "    </tr>\n",
       "    <tr>\n",
       "      <th>331</th>\n",
       "      <td>i5</td>\n",
       "      <td>8</td>\n",
       "      <td>512</td>\n",
       "      <td>SSD</td>\n",
       "      <td>Lenovo</td>\n",
       "      <td>0</td>\n",
       "      <td>Windows</td>\n",
       "    </tr>\n",
       "    <tr>\n",
       "      <th>32</th>\n",
       "      <td>i5</td>\n",
       "      <td>8</td>\n",
       "      <td>512</td>\n",
       "      <td>SSD</td>\n",
       "      <td>HP</td>\n",
       "      <td>0</td>\n",
       "      <td>Windows</td>\n",
       "    </tr>\n",
       "    <tr>\n",
       "      <th>352</th>\n",
       "      <td>i7</td>\n",
       "      <td>16</td>\n",
       "      <td>512</td>\n",
       "      <td>SSD</td>\n",
       "      <td>Dell</td>\n",
       "      <td>1</td>\n",
       "      <td>Windows</td>\n",
       "    </tr>\n",
       "    <tr>\n",
       "      <th>447</th>\n",
       "      <td>i3</td>\n",
       "      <td>8</td>\n",
       "      <td>512</td>\n",
       "      <td>SSD</td>\n",
       "      <td>Lenovo</td>\n",
       "      <td>0</td>\n",
       "      <td>Windows</td>\n",
       "    </tr>\n",
       "    <tr>\n",
       "      <th>...</th>\n",
       "      <td>...</td>\n",
       "      <td>...</td>\n",
       "      <td>...</td>\n",
       "      <td>...</td>\n",
       "      <td>...</td>\n",
       "      <td>...</td>\n",
       "      <td>...</td>\n",
       "    </tr>\n",
       "    <tr>\n",
       "      <th>534</th>\n",
       "      <td>i5</td>\n",
       "      <td>8</td>\n",
       "      <td>1256</td>\n",
       "      <td>Both</td>\n",
       "      <td>Asus</td>\n",
       "      <td>0</td>\n",
       "      <td>Windows</td>\n",
       "    </tr>\n",
       "    <tr>\n",
       "      <th>584</th>\n",
       "      <td>i5</td>\n",
       "      <td>4</td>\n",
       "      <td>1256</td>\n",
       "      <td>Both</td>\n",
       "      <td>Lenovo</td>\n",
       "      <td>0</td>\n",
       "      <td>Windows</td>\n",
       "    </tr>\n",
       "    <tr>\n",
       "      <th>493</th>\n",
       "      <td>i7</td>\n",
       "      <td>16</td>\n",
       "      <td>512</td>\n",
       "      <td>SSD</td>\n",
       "      <td>Asus</td>\n",
       "      <td>0</td>\n",
       "      <td>Windows</td>\n",
       "    </tr>\n",
       "    <tr>\n",
       "      <th>527</th>\n",
       "      <td>i5</td>\n",
       "      <td>16</td>\n",
       "      <td>256</td>\n",
       "      <td>SSD</td>\n",
       "      <td>Lenovo</td>\n",
       "      <td>1</td>\n",
       "      <td>Chrome</td>\n",
       "    </tr>\n",
       "    <tr>\n",
       "      <th>168</th>\n",
       "      <td>Ryzen 5</td>\n",
       "      <td>8</td>\n",
       "      <td>512</td>\n",
       "      <td>SSD</td>\n",
       "      <td>HP</td>\n",
       "      <td>1</td>\n",
       "      <td>Windows</td>\n",
       "    </tr>\n",
       "  </tbody>\n",
       "</table>\n",
       "<p>589 rows × 7 columns</p>\n",
       "</div>"
      ],
      "text/plain": [
       "    Processor_generation  RAM_in_GB  Storage_in_GB Storage_type company  \\\n",
       "591                   i3          8            512          SSD  Lenovo   \n",
       "331                   i5          8            512          SSD  Lenovo   \n",
       "32                    i5          8            512          SSD      HP   \n",
       "352                   i7         16            512          SSD    Dell   \n",
       "447                   i3          8            512          SSD  Lenovo   \n",
       "..                   ...        ...            ...          ...     ...   \n",
       "534                   i5          8           1256         Both    Asus   \n",
       "584                   i5          4           1256         Both  Lenovo   \n",
       "493                   i7         16            512          SSD    Asus   \n",
       "527                   i5         16            256          SSD  Lenovo   \n",
       "168              Ryzen 5          8            512          SSD      HP   \n",
       "\n",
       "     TouchScreen       OS  \n",
       "591            0  Windows  \n",
       "331            0  Windows  \n",
       "32             0  Windows  \n",
       "352            1  Windows  \n",
       "447            0  Windows  \n",
       "..           ...      ...  \n",
       "534            0  Windows  \n",
       "584            0  Windows  \n",
       "493            0  Windows  \n",
       "527            1   Chrome  \n",
       "168            1  Windows  \n",
       "\n",
       "[589 rows x 7 columns]"
      ]
     },
     "execution_count": 54,
     "metadata": {},
     "output_type": "execute_result"
    }
   ],
   "source": [
    "X_train"
   ]
  },
  {
   "cell_type": "code",
   "execution_count": 55,
   "id": "c58bec86",
   "metadata": {},
   "outputs": [
    {
     "data": {
      "text/html": [
       "<div>\n",
       "<style scoped>\n",
       "    .dataframe tbody tr th:only-of-type {\n",
       "        vertical-align: middle;\n",
       "    }\n",
       "\n",
       "    .dataframe tbody tr th {\n",
       "        vertical-align: top;\n",
       "    }\n",
       "\n",
       "    .dataframe thead th {\n",
       "        text-align: right;\n",
       "    }\n",
       "</style>\n",
       "<table border=\"1\" class=\"dataframe\">\n",
       "  <thead>\n",
       "    <tr style=\"text-align: right;\">\n",
       "      <th></th>\n",
       "      <th>Processor_generation</th>\n",
       "      <th>RAM_in_GB</th>\n",
       "      <th>Storage_in_GB</th>\n",
       "      <th>Storage_type</th>\n",
       "      <th>company</th>\n",
       "      <th>TouchScreen</th>\n",
       "      <th>OS</th>\n",
       "    </tr>\n",
       "  </thead>\n",
       "  <tbody>\n",
       "    <tr>\n",
       "      <th>89</th>\n",
       "      <td>i7</td>\n",
       "      <td>4</td>\n",
       "      <td>256</td>\n",
       "      <td>SSD</td>\n",
       "      <td>Asus</td>\n",
       "      <td>0</td>\n",
       "      <td>Windows</td>\n",
       "    </tr>\n",
       "    <tr>\n",
       "      <th>176</th>\n",
       "      <td>i5</td>\n",
       "      <td>8</td>\n",
       "      <td>256</td>\n",
       "      <td>SSD</td>\n",
       "      <td>Lenovo</td>\n",
       "      <td>0</td>\n",
       "      <td>Windows</td>\n",
       "    </tr>\n",
       "    <tr>\n",
       "      <th>37</th>\n",
       "      <td>Ryzen 5</td>\n",
       "      <td>8</td>\n",
       "      <td>512</td>\n",
       "      <td>SSD</td>\n",
       "      <td>Dell</td>\n",
       "      <td>0</td>\n",
       "      <td>Windows</td>\n",
       "    </tr>\n",
       "    <tr>\n",
       "      <th>413</th>\n",
       "      <td>Ryzen 5</td>\n",
       "      <td>8</td>\n",
       "      <td>1000</td>\n",
       "      <td>SSD</td>\n",
       "      <td>Asus</td>\n",
       "      <td>0</td>\n",
       "      <td>Windows</td>\n",
       "    </tr>\n",
       "    <tr>\n",
       "      <th>172</th>\n",
       "      <td>i5</td>\n",
       "      <td>8</td>\n",
       "      <td>1000</td>\n",
       "      <td>HDD</td>\n",
       "      <td>Dell</td>\n",
       "      <td>0</td>\n",
       "      <td>Windows</td>\n",
       "    </tr>\n",
       "    <tr>\n",
       "      <th>...</th>\n",
       "      <td>...</td>\n",
       "      <td>...</td>\n",
       "      <td>...</td>\n",
       "      <td>...</td>\n",
       "      <td>...</td>\n",
       "      <td>...</td>\n",
       "      <td>...</td>\n",
       "    </tr>\n",
       "    <tr>\n",
       "      <th>402</th>\n",
       "      <td>i5</td>\n",
       "      <td>16</td>\n",
       "      <td>512</td>\n",
       "      <td>SSD</td>\n",
       "      <td>Dell</td>\n",
       "      <td>0</td>\n",
       "      <td>Windows</td>\n",
       "    </tr>\n",
       "    <tr>\n",
       "      <th>455</th>\n",
       "      <td>i3</td>\n",
       "      <td>16</td>\n",
       "      <td>1000</td>\n",
       "      <td>HDD</td>\n",
       "      <td>Lenovo</td>\n",
       "      <td>1</td>\n",
       "      <td>Windows</td>\n",
       "    </tr>\n",
       "    <tr>\n",
       "      <th>469</th>\n",
       "      <td>i7</td>\n",
       "      <td>8</td>\n",
       "      <td>1000</td>\n",
       "      <td>SSD</td>\n",
       "      <td>Vaio</td>\n",
       "      <td>0</td>\n",
       "      <td>Windows</td>\n",
       "    </tr>\n",
       "    <tr>\n",
       "      <th>171</th>\n",
       "      <td>i5</td>\n",
       "      <td>8</td>\n",
       "      <td>1256</td>\n",
       "      <td>Both</td>\n",
       "      <td>Lenovo</td>\n",
       "      <td>0</td>\n",
       "      <td>Windows</td>\n",
       "    </tr>\n",
       "    <tr>\n",
       "      <th>519</th>\n",
       "      <td>i5</td>\n",
       "      <td>8</td>\n",
       "      <td>512</td>\n",
       "      <td>SSD</td>\n",
       "      <td>Lenovo</td>\n",
       "      <td>0</td>\n",
       "      <td>Mac OS</td>\n",
       "    </tr>\n",
       "  </tbody>\n",
       "</table>\n",
       "<p>105 rows × 7 columns</p>\n",
       "</div>"
      ],
      "text/plain": [
       "    Processor_generation  RAM_in_GB  Storage_in_GB Storage_type company  \\\n",
       "89                    i7          4            256          SSD    Asus   \n",
       "176                   i5          8            256          SSD  Lenovo   \n",
       "37               Ryzen 5          8            512          SSD    Dell   \n",
       "413              Ryzen 5          8           1000          SSD    Asus   \n",
       "172                   i5          8           1000          HDD    Dell   \n",
       "..                   ...        ...            ...          ...     ...   \n",
       "402                   i5         16            512          SSD    Dell   \n",
       "455                   i3         16           1000          HDD  Lenovo   \n",
       "469                   i7          8           1000          SSD    Vaio   \n",
       "171                   i5          8           1256         Both  Lenovo   \n",
       "519                   i5          8            512          SSD  Lenovo   \n",
       "\n",
       "     TouchScreen       OS  \n",
       "89             0  Windows  \n",
       "176            0  Windows  \n",
       "37             0  Windows  \n",
       "413            0  Windows  \n",
       "172            0  Windows  \n",
       "..           ...      ...  \n",
       "402            0  Windows  \n",
       "455            1  Windows  \n",
       "469            0  Windows  \n",
       "171            0  Windows  \n",
       "519            0   Mac OS  \n",
       "\n",
       "[105 rows x 7 columns]"
      ]
     },
     "execution_count": 55,
     "metadata": {},
     "output_type": "execute_result"
    }
   ],
   "source": [
    "X_test"
   ]
  },
  {
   "cell_type": "markdown",
   "id": "4195825c",
   "metadata": {},
   "source": [
    "### predict price with linear regression"
   ]
  },
  {
   "cell_type": "code",
   "execution_count": 56,
   "id": "c2b00462",
   "metadata": {},
   "outputs": [
    {
     "name": "stdout",
     "output_type": "stream",
     "text": [
      "price prediction by linear regression 59576.833934742805\n"
     ]
    }
   ],
   "source": [
    "inp=np.array(['Ryzen 5',8,512,'SSD','Dell',1,'Windows'])\n",
    "ip=inp.reshape(1,7)\n",
    "p=np.exp(pipe.predict(ip)[0])\n",
    "print(\"price prediction by linear regression\",p)"
   ]
  },
  {
   "cell_type": "markdown",
   "id": "53aacf19",
   "metadata": {},
   "source": [
    "### predict price with knn"
   ]
  },
  {
   "cell_type": "code",
   "execution_count": 57,
   "id": "ee7418cd",
   "metadata": {},
   "outputs": [
    {
     "name": "stdout",
     "output_type": "stream",
     "text": [
      "price prediction by KNN: 57916.89034241262\n"
     ]
    }
   ],
   "source": [
    "inp=np.array(['Ryzen 5',8,512,'SSD','Dell',1,'Windows'])\n",
    "ip=inp.reshape(1,7)\n",
    "p=np.exp(pipek.predict(ip)[0])\n",
    "print(\"price prediction by KNN:\",p)"
   ]
  },
  {
   "cell_type": "markdown",
   "id": "7c62f0b4",
   "metadata": {},
   "source": [
    "### predict price with SVM"
   ]
  },
  {
   "cell_type": "code",
   "execution_count": 58,
   "id": "5318cfe9",
   "metadata": {},
   "outputs": [
    {
     "name": "stdout",
     "output_type": "stream",
     "text": [
      "price prediction by SVM: 54219.86340435869\n"
     ]
    }
   ],
   "source": [
    "inp=np.array(['Ryzen 5',8,512,'SSD','Dell',1,'Windows'])\n",
    "ip=inp.reshape(1,7)\n",
    "p=np.exp(pipes.predict(ip)[0])\n",
    "print(\"price prediction by SVM:\",p)"
   ]
  },
  {
   "cell_type": "markdown",
   "id": "4907aee5",
   "metadata": {},
   "source": [
    "## price pridiction by DT"
   ]
  },
  {
   "cell_type": "code",
   "execution_count": 59,
   "id": "a7a961da",
   "metadata": {},
   "outputs": [
    {
     "name": "stdout",
     "output_type": "stream",
     "text": [
      "price prediction by DT: 57893.40387477023\n"
     ]
    }
   ],
   "source": [
    "inp=np.array(['Ryzen 5',8,512,'SSD','Dell',1,'Windows'])\n",
    "ip=inp.reshape(1,7)\n",
    "p=np.exp(pipeD.predict(ip)[0])\n",
    "print(\"price prediction by DT:\",p)"
   ]
  },
  {
   "cell_type": "markdown",
   "id": "c612a7a3",
   "metadata": {},
   "source": [
    "## Compare All Algorithms"
   ]
  },
  {
   "cell_type": "code",
   "execution_count": 60,
   "id": "b75fc057",
   "metadata": {},
   "outputs": [
    {
     "data": {
      "text/plain": [
       "(0.0, 0.8)"
      ]
     },
     "execution_count": 60,
     "metadata": {},
     "output_type": "execute_result"
    },
    {
     "data": {
      "image/png": "[encoded data removed]",
      "text/plain": [
       "<Figure size 432x288 with 1 Axes>"
      ]
     },
     "metadata": {
      "needs_background": "light"
     },
     "output_type": "display_data"
    }
   ],
   "source": [
    "sns.barplot(x=names,y=Listl)\n",
    "plt.xticks(rotation='vertical')\n",
    "plt.title('Compare Algorithms with R2 score')\n",
    "plt.ylabel('R2_score')\n",
    "plt.xlabel(\"Algorithms\")\n",
    "plt.ylim([0.0,0.8])\n"
   ]
  },
  {
   "cell_type": "code",
   "execution_count": null,
   "id": "1304bbca",
   "metadata": {},
   "outputs": [],
   "source": []
  }
 ],
 "metadata": {
  "kernelspec": {
   "display_name": "Python 3",
   "language": "python",
   "name": "python3"
  },
  "language_info": {
   "codemirror_mode": {
    "name": "ipython",
    "version": 3
   },
   "file_extension": ".py",
   "mimetype": "text/x-python",
   "name": "python",
   "nbconvert_exporter": "python",
   "pygments_lexer": "ipython3",
   "version": "3.8.8"
  }
 },
 "nbformat": 4,
 "nbformat_minor": 5
}
